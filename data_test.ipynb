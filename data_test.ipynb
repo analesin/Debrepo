{
 "cells": [
  {
   "cell_type": "code",
   "execution_count": 2,
   "metadata": {
    "collapsed": true
   },
   "outputs": [],
   "source": [
    "import numpy as np\n",
    "import pandas as pd\n",
    "import seaborn as sns\n",
    "%matplotlib inline"
   ]
  },
  {
   "cell_type": "markdown",
   "metadata": {},
   "source": [
    "**Reading the csv files below**"
   ]
  },
  {
   "cell_type": "code",
   "execution_count": 3,
   "metadata": {
    "collapsed": false
   },
   "outputs": [],
   "source": [
    "census_learn=pd.read_csv(\"/Users/manishabrahmachary/Anales/us_census_full/census_income_learn.csv\", encoding = \"ISO-8859-1\",header=None)\n",
    "census_test=pd.read_csv(\"/Users/manishabrahmachary/Anales/us_census_full/census_income_test.csv\",encoding = \"ISO-8859-1\",header=None)"
   ]
  },
  {
   "cell_type": "markdown",
   "metadata": {},
   "source": [
    "**Looking at the structure of 'census_learn' file. shape give the number of rows and columns**"
   ]
  },
  {
   "cell_type": "code",
   "execution_count": 4,
   "metadata": {
    "collapsed": false
   },
   "outputs": [
    {
     "data": {
      "text/plain": [
       "(199523, 42)"
      ]
     },
     "execution_count": 4,
     "metadata": {},
     "output_type": "execute_result"
    }
   ],
   "source": [
    "census_learn.shape"
   ]
  },
  {
   "cell_type": "markdown",
   "metadata": {},
   "source": [
    "**From the metadata given I created another csv file with the column headers. I am reading it below.**"
   ]
  },
  {
   "cell_type": "code",
   "execution_count": 5,
   "metadata": {
    "collapsed": false
   },
   "outputs": [],
   "source": [
    "columns=pd.read_csv(\"/Users/manishabrahmachary/Anales/column_names.csv\",encoding = \"ISO-8859-1\" )"
   ]
  },
  {
   "cell_type": "markdown",
   "metadata": {},
   "source": [
    "** I am trying to understand how python read the \"columns' file. We notice that except for 'age' every other name is preceded by '|'. So I would have to remove it to bring it to an appropriate format.**"
   ]
  },
  {
   "cell_type": "code",
   "execution_count": 6,
   "metadata": {
    "collapsed": false
   },
   "outputs": [],
   "source": [
    "col=columns.columns.values"
   ]
  },
  {
   "cell_type": "code",
   "execution_count": 7,
   "metadata": {
    "collapsed": false
   },
   "outputs": [
    {
     "data": {
      "text/plain": [
       "array(['age', '| class of worker', '| industry code', '| occupation code',\n",
       "       '| adjusted gross income', '| education', '| wage per hour',\n",
       "       '| enrolled in edu inst last wk', '| marital status',\n",
       "       '| major industry code', '| major occupation code', '| mace',\n",
       "       '| hispanic Origin', '| sex', '| member of a labor union',\n",
       "       '| reason for unemployment', '| full or part time employment stat',\n",
       "       '| capital gains', '| capital losses', '| divdends from stocks',\n",
       "       '| federal income tax liability', '| tax filer status',\n",
       "       '| region of previous residence', '| state of previous residence',\n",
       "       '| detailed household and family stat',\n",
       "       '| detailed household summary in household', '| instance weight',\n",
       "       '| migration code-change in msa', '| migration code-change in reg',\n",
       "       '| migration code-move within reg',\n",
       "       '| live in this house 1 year ago',\n",
       "       '| migration prev res in sunbelt',\n",
       "       '| num persons worked for employer', '| family members under 18',\n",
       "       '| total person earnings', '| country of birth father',\n",
       "       '| country of birth mother', '| country of birth self',\n",
       "       '| citizenship', '| total person income',\n",
       "       '| own business or self employed', '| taxable income amount',\n",
       "       \"| fill inc questionnaire for veteran's admin\",\n",
       "       '| veterans benefits', '| weeks worked in year'], dtype=object)"
      ]
     },
     "execution_count": 7,
     "metadata": {},
     "output_type": "execute_result"
    }
   ],
   "source": [
    "col"
   ]
  },
  {
   "cell_type": "markdown",
   "metadata": {},
   "source": [
    "** The step below removes the unwanted '|' from all names above except 'age' which did not have it in the first place. We notice that after removing '|' we create a space before every name. For example '| reason for unemployment\" will now be ' reason for unemployment. I won't remove the space because it is immaterial.**"
   ]
  },
  {
   "cell_type": "code",
   "execution_count": 8,
   "metadata": {
    "collapsed": false
   },
   "outputs": [],
   "source": [
    "columns=[s.replace('|' , '') for s in col]"
   ]
  },
  {
   "cell_type": "code",
   "execution_count": 9,
   "metadata": {
    "collapsed": false
   },
   "outputs": [
    {
     "data": {
      "text/plain": [
       "['age',\n",
       " ' class of worker',\n",
       " ' industry code',\n",
       " ' occupation code',\n",
       " ' adjusted gross income',\n",
       " ' education',\n",
       " ' wage per hour',\n",
       " ' enrolled in edu inst last wk',\n",
       " ' marital status',\n",
       " ' major industry code',\n",
       " ' major occupation code',\n",
       " ' mace',\n",
       " ' hispanic Origin',\n",
       " ' sex',\n",
       " ' member of a labor union',\n",
       " ' reason for unemployment',\n",
       " ' full or part time employment stat',\n",
       " ' capital gains',\n",
       " ' capital losses',\n",
       " ' divdends from stocks',\n",
       " ' federal income tax liability',\n",
       " ' tax filer status',\n",
       " ' region of previous residence',\n",
       " ' state of previous residence',\n",
       " ' detailed household and family stat',\n",
       " ' detailed household summary in household',\n",
       " ' instance weight',\n",
       " ' migration code-change in msa',\n",
       " ' migration code-change in reg',\n",
       " ' migration code-move within reg',\n",
       " ' live in this house 1 year ago',\n",
       " ' migration prev res in sunbelt',\n",
       " ' num persons worked for employer',\n",
       " ' family members under 18',\n",
       " ' total person earnings',\n",
       " ' country of birth father',\n",
       " ' country of birth mother',\n",
       " ' country of birth self',\n",
       " ' citizenship',\n",
       " ' total person income',\n",
       " ' own business or self employed',\n",
       " ' taxable income amount',\n",
       " \" fill inc questionnaire for veteran's admin\",\n",
       " ' veterans benefits',\n",
       " ' weeks worked in year']"
      ]
     },
     "execution_count": 9,
     "metadata": {},
     "output_type": "execute_result"
    }
   ],
   "source": [
    "columns"
   ]
  },
  {
   "cell_type": "markdown",
   "metadata": {},
   "source": [
    "** We see from above there are a few extra names which we have to get rid of and two missing names. In the steps below we are doing just that. remove() removes a name and append() adds to the end of the array.**"
   ]
  },
  {
   "cell_type": "code",
   "execution_count": 10,
   "metadata": {
    "collapsed": false
   },
   "outputs": [],
   "source": [
    "columns.remove(\" adjusted gross income\")\n",
    "\n"
   ]
  },
  {
   "cell_type": "code",
   "execution_count": 11,
   "metadata": {
    "collapsed": false
   },
   "outputs": [],
   "source": [
    "columns=[' race' if x==' mace' else x for x in columns]"
   ]
  },
  {
   "cell_type": "code",
   "execution_count": 12,
   "metadata": {
    "collapsed": false
   },
   "outputs": [],
   "source": [
    "columns.remove(' federal income tax liability')"
   ]
  },
  {
   "cell_type": "code",
   "execution_count": 13,
   "metadata": {
    "collapsed": false
   },
   "outputs": [],
   "source": [
    "columns.remove(' total person earnings')"
   ]
  },
  {
   "cell_type": "code",
   "execution_count": 14,
   "metadata": {
    "collapsed": false
   },
   "outputs": [],
   "source": [
    "columns.remove(' total person income')\n",
    "columns.remove(' taxable income amount')"
   ]
  },
  {
   "cell_type": "code",
   "execution_count": 15,
   "metadata": {
    "collapsed": false
   },
   "outputs": [
    {
     "data": {
      "text/plain": [
       "array(['age', ' class of worker', ' industry code', ' occupation code',\n",
       "       ' education', ' wage per hour', ' enrolled in edu inst last wk',\n",
       "       ' marital status', ' major industry code', ' major occupation code',\n",
       "       ' race', ' hispanic Origin', ' sex', ' member of a labor union',\n",
       "       ' reason for unemployment', ' full or part time employment stat',\n",
       "       ' capital gains', ' capital losses', ' divdends from stocks',\n",
       "       ' tax filer status', ' region of previous residence',\n",
       "       ' state of previous residence',\n",
       "       ' detailed household and family stat',\n",
       "       ' detailed household summary in household', ' instance weight',\n",
       "       ' migration code-change in msa', ' migration code-change in reg',\n",
       "       ' migration code-move within reg', ' live in this house 1 year ago',\n",
       "       ' migration prev res in sunbelt',\n",
       "       ' num persons worked for employer', ' family members under 18',\n",
       "       ' country of birth father', ' country of birth mother',\n",
       "       ' country of birth self', ' citizenship',\n",
       "       ' own business or self employed',\n",
       "       \" fill inc questionnaire for veteran's admin\", ' veterans benefits',\n",
       "       ' weeks worked in year', ' year'], \n",
       "      dtype='<U43')"
      ]
     },
     "execution_count": 15,
     "metadata": {},
     "output_type": "execute_result"
    }
   ],
   "source": [
    "np.append(columns, ' year')"
   ]
  },
  {
   "cell_type": "code",
   "execution_count": 16,
   "metadata": {
    "collapsed": false
   },
   "outputs": [],
   "source": [
    "columns=np.append(columns, ' year')"
   ]
  },
  {
   "cell_type": "code",
   "execution_count": 17,
   "metadata": {
    "collapsed": false
   },
   "outputs": [
    {
     "data": {
      "text/plain": [
       "array(['age', ' class of worker', ' industry code', ' occupation code',\n",
       "       ' education', ' wage per hour', ' enrolled in edu inst last wk',\n",
       "       ' marital status', ' major industry code', ' major occupation code',\n",
       "       ' race', ' hispanic Origin', ' sex', ' member of a labor union',\n",
       "       ' reason for unemployment', ' full or part time employment stat',\n",
       "       ' capital gains', ' capital losses', ' divdends from stocks',\n",
       "       ' tax filer status', ' region of previous residence',\n",
       "       ' state of previous residence',\n",
       "       ' detailed household and family stat',\n",
       "       ' detailed household summary in household', ' instance weight',\n",
       "       ' migration code-change in msa', ' migration code-change in reg',\n",
       "       ' migration code-move within reg', ' live in this house 1 year ago',\n",
       "       ' migration prev res in sunbelt',\n",
       "       ' num persons worked for employer', ' family members under 18',\n",
       "       ' country of birth father', ' country of birth mother',\n",
       "       ' country of birth self', ' citizenship',\n",
       "       ' own business or self employed',\n",
       "       \" fill inc questionnaire for veteran's admin\", ' veterans benefits',\n",
       "       ' weeks worked in year', ' year'], \n",
       "      dtype='<U43')"
      ]
     },
     "execution_count": 17,
     "metadata": {},
     "output_type": "execute_result"
    }
   ],
   "source": [
    "columns"
   ]
  },
  {
   "cell_type": "code",
   "execution_count": 18,
   "metadata": {
    "collapsed": true
   },
   "outputs": [],
   "source": [
    "columns=np.append(columns, ' income')"
   ]
  },
  {
   "cell_type": "code",
   "execution_count": 19,
   "metadata": {
    "collapsed": false
   },
   "outputs": [
    {
     "data": {
      "text/plain": [
       "array(['age', ' class of worker', ' industry code', ' occupation code',\n",
       "       ' education', ' wage per hour', ' enrolled in edu inst last wk',\n",
       "       ' marital status', ' major industry code', ' major occupation code',\n",
       "       ' race', ' hispanic Origin', ' sex', ' member of a labor union',\n",
       "       ' reason for unemployment', ' full or part time employment stat',\n",
       "       ' capital gains', ' capital losses', ' divdends from stocks',\n",
       "       ' tax filer status', ' region of previous residence',\n",
       "       ' state of previous residence',\n",
       "       ' detailed household and family stat',\n",
       "       ' detailed household summary in household', ' instance weight',\n",
       "       ' migration code-change in msa', ' migration code-change in reg',\n",
       "       ' migration code-move within reg', ' live in this house 1 year ago',\n",
       "       ' migration prev res in sunbelt',\n",
       "       ' num persons worked for employer', ' family members under 18',\n",
       "       ' country of birth father', ' country of birth mother',\n",
       "       ' country of birth self', ' citizenship',\n",
       "       ' own business or self employed',\n",
       "       \" fill inc questionnaire for veteran's admin\", ' veterans benefits',\n",
       "       ' weeks worked in year', ' year', ' income'], \n",
       "      dtype='<U43')"
      ]
     },
     "execution_count": 19,
     "metadata": {},
     "output_type": "execute_result"
    }
   ],
   "source": [
    "columns"
   ]
  },
  {
   "cell_type": "markdown",
   "metadata": {},
   "source": [
    "**Now we have all the required column names. Now we can change the column names of census_learn and census_test to the names in columns.**"
   ]
  },
  {
   "cell_type": "code",
   "execution_count": 20,
   "metadata": {
    "collapsed": true
   },
   "outputs": [],
   "source": [
    "census_learn.columns=columns"
   ]
  },
  {
   "cell_type": "code",
   "execution_count": 21,
   "metadata": {
    "collapsed": true
   },
   "outputs": [],
   "source": [
    "census_test.columns=columns"
   ]
  },
  {
   "cell_type": "markdown",
   "metadata": {},
   "source": [
    "**In the step below we create dummy variable in place of -50000 and 50000+. Here 1 is -50000 and 0 is 50000+"
   ]
  },
  {
   "cell_type": "code",
   "execution_count": 22,
   "metadata": {
    "collapsed": true
   },
   "outputs": [],
   "source": [
    "census_learn[' income']=pd.get_dummies(census_learn[' income'])\n",
    "census_test[' income']=pd.get_dummies(census_test[' income'])"
   ]
  },
  {
   "cell_type": "code",
   "execution_count": 23,
   "metadata": {
    "collapsed": false
   },
   "outputs": [
    {
     "data": {
      "text/html": [
       "<div>\n",
       "<table border=\"1\" class=\"dataframe\">\n",
       "  <thead>\n",
       "    <tr style=\"text-align: right;\">\n",
       "      <th></th>\n",
       "      <th>age</th>\n",
       "      <th>class of worker</th>\n",
       "      <th>industry code</th>\n",
       "      <th>occupation code</th>\n",
       "      <th>education</th>\n",
       "      <th>wage per hour</th>\n",
       "      <th>enrolled in edu inst last wk</th>\n",
       "      <th>marital status</th>\n",
       "      <th>major industry code</th>\n",
       "      <th>major occupation code</th>\n",
       "      <th>...</th>\n",
       "      <th>country of birth father</th>\n",
       "      <th>country of birth mother</th>\n",
       "      <th>country of birth self</th>\n",
       "      <th>citizenship</th>\n",
       "      <th>own business or self employed</th>\n",
       "      <th>fill inc questionnaire for veteran's admin</th>\n",
       "      <th>veterans benefits</th>\n",
       "      <th>weeks worked in year</th>\n",
       "      <th>year</th>\n",
       "      <th>income</th>\n",
       "    </tr>\n",
       "  </thead>\n",
       "  <tbody>\n",
       "    <tr>\n",
       "      <th>0</th>\n",
       "      <td>38</td>\n",
       "      <td>Private</td>\n",
       "      <td>6</td>\n",
       "      <td>36</td>\n",
       "      <td>1st 2nd 3rd or 4th grade</td>\n",
       "      <td>0</td>\n",
       "      <td>Not in universe</td>\n",
       "      <td>Married-civilian spouse present</td>\n",
       "      <td>Manufacturing-durable goods</td>\n",
       "      <td>Machine operators assmblrs &amp; inspctrs</td>\n",
       "      <td>...</td>\n",
       "      <td>Mexico</td>\n",
       "      <td>Mexico</td>\n",
       "      <td>Mexico</td>\n",
       "      <td>Foreign born- Not a citizen of U S</td>\n",
       "      <td>0</td>\n",
       "      <td>Not in universe</td>\n",
       "      <td>2</td>\n",
       "      <td>12</td>\n",
       "      <td>95</td>\n",
       "      <td>1.0</td>\n",
       "    </tr>\n",
       "    <tr>\n",
       "      <th>1</th>\n",
       "      <td>44</td>\n",
       "      <td>Self-employed-not incorporated</td>\n",
       "      <td>37</td>\n",
       "      <td>12</td>\n",
       "      <td>Associates degree-occup /vocational</td>\n",
       "      <td>0</td>\n",
       "      <td>Not in universe</td>\n",
       "      <td>Married-civilian spouse present</td>\n",
       "      <td>Business and repair services</td>\n",
       "      <td>Professional specialty</td>\n",
       "      <td>...</td>\n",
       "      <td>United-States</td>\n",
       "      <td>United-States</td>\n",
       "      <td>United-States</td>\n",
       "      <td>Native- Born in the United States</td>\n",
       "      <td>0</td>\n",
       "      <td>Not in universe</td>\n",
       "      <td>2</td>\n",
       "      <td>26</td>\n",
       "      <td>95</td>\n",
       "      <td>1.0</td>\n",
       "    </tr>\n",
       "    <tr>\n",
       "      <th>2</th>\n",
       "      <td>2</td>\n",
       "      <td>Not in universe</td>\n",
       "      <td>0</td>\n",
       "      <td>0</td>\n",
       "      <td>Children</td>\n",
       "      <td>0</td>\n",
       "      <td>Not in universe</td>\n",
       "      <td>Never married</td>\n",
       "      <td>Not in universe or children</td>\n",
       "      <td>Not in universe</td>\n",
       "      <td>...</td>\n",
       "      <td>United-States</td>\n",
       "      <td>United-States</td>\n",
       "      <td>United-States</td>\n",
       "      <td>Native- Born in the United States</td>\n",
       "      <td>0</td>\n",
       "      <td>Not in universe</td>\n",
       "      <td>0</td>\n",
       "      <td>0</td>\n",
       "      <td>95</td>\n",
       "      <td>1.0</td>\n",
       "    </tr>\n",
       "    <tr>\n",
       "      <th>3</th>\n",
       "      <td>35</td>\n",
       "      <td>Private</td>\n",
       "      <td>29</td>\n",
       "      <td>3</td>\n",
       "      <td>High school graduate</td>\n",
       "      <td>0</td>\n",
       "      <td>Not in universe</td>\n",
       "      <td>Divorced</td>\n",
       "      <td>Transportation</td>\n",
       "      <td>Executive admin and managerial</td>\n",
       "      <td>...</td>\n",
       "      <td>United-States</td>\n",
       "      <td>United-States</td>\n",
       "      <td>United-States</td>\n",
       "      <td>Native- Born in the United States</td>\n",
       "      <td>2</td>\n",
       "      <td>Not in universe</td>\n",
       "      <td>2</td>\n",
       "      <td>52</td>\n",
       "      <td>94</td>\n",
       "      <td>1.0</td>\n",
       "    </tr>\n",
       "    <tr>\n",
       "      <th>4</th>\n",
       "      <td>49</td>\n",
       "      <td>Private</td>\n",
       "      <td>4</td>\n",
       "      <td>34</td>\n",
       "      <td>High school graduate</td>\n",
       "      <td>0</td>\n",
       "      <td>Not in universe</td>\n",
       "      <td>Divorced</td>\n",
       "      <td>Construction</td>\n",
       "      <td>Precision production craft &amp; repair</td>\n",
       "      <td>...</td>\n",
       "      <td>United-States</td>\n",
       "      <td>United-States</td>\n",
       "      <td>United-States</td>\n",
       "      <td>Native- Born in the United States</td>\n",
       "      <td>0</td>\n",
       "      <td>Not in universe</td>\n",
       "      <td>2</td>\n",
       "      <td>50</td>\n",
       "      <td>95</td>\n",
       "      <td>1.0</td>\n",
       "    </tr>\n",
       "    <tr>\n",
       "      <th>5</th>\n",
       "      <td>13</td>\n",
       "      <td>Not in universe</td>\n",
       "      <td>0</td>\n",
       "      <td>0</td>\n",
       "      <td>Children</td>\n",
       "      <td>0</td>\n",
       "      <td>Not in universe</td>\n",
       "      <td>Never married</td>\n",
       "      <td>Not in universe or children</td>\n",
       "      <td>Not in universe</td>\n",
       "      <td>...</td>\n",
       "      <td>Germany</td>\n",
       "      <td>United-States</td>\n",
       "      <td>United-States</td>\n",
       "      <td>Native- Born in the United States</td>\n",
       "      <td>0</td>\n",
       "      <td>Not in universe</td>\n",
       "      <td>0</td>\n",
       "      <td>0</td>\n",
       "      <td>94</td>\n",
       "      <td>1.0</td>\n",
       "    </tr>\n",
       "    <tr>\n",
       "      <th>6</th>\n",
       "      <td>1</td>\n",
       "      <td>Not in universe</td>\n",
       "      <td>0</td>\n",
       "      <td>0</td>\n",
       "      <td>Children</td>\n",
       "      <td>0</td>\n",
       "      <td>Not in universe</td>\n",
       "      <td>Never married</td>\n",
       "      <td>Not in universe or children</td>\n",
       "      <td>Not in universe</td>\n",
       "      <td>...</td>\n",
       "      <td>Mexico</td>\n",
       "      <td>United-States</td>\n",
       "      <td>United-States</td>\n",
       "      <td>Native- Born in the United States</td>\n",
       "      <td>0</td>\n",
       "      <td>Not in universe</td>\n",
       "      <td>0</td>\n",
       "      <td>0</td>\n",
       "      <td>94</td>\n",
       "      <td>1.0</td>\n",
       "    </tr>\n",
       "    <tr>\n",
       "      <th>7</th>\n",
       "      <td>61</td>\n",
       "      <td>Not in universe</td>\n",
       "      <td>0</td>\n",
       "      <td>0</td>\n",
       "      <td>High school graduate</td>\n",
       "      <td>0</td>\n",
       "      <td>Not in universe</td>\n",
       "      <td>Married-civilian spouse present</td>\n",
       "      <td>Not in universe or children</td>\n",
       "      <td>Not in universe</td>\n",
       "      <td>...</td>\n",
       "      <td>United-States</td>\n",
       "      <td>United-States</td>\n",
       "      <td>United-States</td>\n",
       "      <td>Native- Born in the United States</td>\n",
       "      <td>0</td>\n",
       "      <td>Not in universe</td>\n",
       "      <td>2</td>\n",
       "      <td>0</td>\n",
       "      <td>95</td>\n",
       "      <td>1.0</td>\n",
       "    </tr>\n",
       "    <tr>\n",
       "      <th>8</th>\n",
       "      <td>38</td>\n",
       "      <td>Private</td>\n",
       "      <td>45</td>\n",
       "      <td>12</td>\n",
       "      <td>Masters degree(MA MS MEng MEd MSW MBA)</td>\n",
       "      <td>0</td>\n",
       "      <td>Not in universe</td>\n",
       "      <td>Married-civilian spouse present</td>\n",
       "      <td>Other professional services</td>\n",
       "      <td>Professional specialty</td>\n",
       "      <td>...</td>\n",
       "      <td>United-States</td>\n",
       "      <td>United-States</td>\n",
       "      <td>United-States</td>\n",
       "      <td>Native- Born in the United States</td>\n",
       "      <td>0</td>\n",
       "      <td>Not in universe</td>\n",
       "      <td>2</td>\n",
       "      <td>52</td>\n",
       "      <td>94</td>\n",
       "      <td>1.0</td>\n",
       "    </tr>\n",
       "    <tr>\n",
       "      <th>9</th>\n",
       "      <td>7</td>\n",
       "      <td>Not in universe</td>\n",
       "      <td>0</td>\n",
       "      <td>0</td>\n",
       "      <td>Children</td>\n",
       "      <td>0</td>\n",
       "      <td>Not in universe</td>\n",
       "      <td>Never married</td>\n",
       "      <td>Not in universe or children</td>\n",
       "      <td>Not in universe</td>\n",
       "      <td>...</td>\n",
       "      <td>United-States</td>\n",
       "      <td>United-States</td>\n",
       "      <td>United-States</td>\n",
       "      <td>Native- Born in the United States</td>\n",
       "      <td>0</td>\n",
       "      <td>Not in universe</td>\n",
       "      <td>0</td>\n",
       "      <td>0</td>\n",
       "      <td>94</td>\n",
       "      <td>1.0</td>\n",
       "    </tr>\n",
       "    <tr>\n",
       "      <th>10</th>\n",
       "      <td>30</td>\n",
       "      <td>Private</td>\n",
       "      <td>30</td>\n",
       "      <td>26</td>\n",
       "      <td>Bachelors degree(BA AB BS)</td>\n",
       "      <td>0</td>\n",
       "      <td>Not in universe</td>\n",
       "      <td>Married-civilian spouse present</td>\n",
       "      <td>Communications</td>\n",
       "      <td>Adm support including clerical</td>\n",
       "      <td>...</td>\n",
       "      <td>United-States</td>\n",
       "      <td>United-States</td>\n",
       "      <td>United-States</td>\n",
       "      <td>Native- Born in the United States</td>\n",
       "      <td>0</td>\n",
       "      <td>Not in universe</td>\n",
       "      <td>2</td>\n",
       "      <td>52</td>\n",
       "      <td>95</td>\n",
       "      <td>1.0</td>\n",
       "    </tr>\n",
       "    <tr>\n",
       "      <th>11</th>\n",
       "      <td>85</td>\n",
       "      <td>Not in universe</td>\n",
       "      <td>0</td>\n",
       "      <td>0</td>\n",
       "      <td>10th grade</td>\n",
       "      <td>0</td>\n",
       "      <td>Not in universe</td>\n",
       "      <td>Married-civilian spouse present</td>\n",
       "      <td>Not in universe or children</td>\n",
       "      <td>Not in universe</td>\n",
       "      <td>...</td>\n",
       "      <td>United-States</td>\n",
       "      <td>United-States</td>\n",
       "      <td>United-States</td>\n",
       "      <td>Native- Born in the United States</td>\n",
       "      <td>0</td>\n",
       "      <td>Not in universe</td>\n",
       "      <td>2</td>\n",
       "      <td>0</td>\n",
       "      <td>95</td>\n",
       "      <td>1.0</td>\n",
       "    </tr>\n",
       "    <tr>\n",
       "      <th>12</th>\n",
       "      <td>33</td>\n",
       "      <td>Private</td>\n",
       "      <td>36</td>\n",
       "      <td>27</td>\n",
       "      <td>High school graduate</td>\n",
       "      <td>0</td>\n",
       "      <td>Not in universe</td>\n",
       "      <td>Married-civilian spouse present</td>\n",
       "      <td>Private household services</td>\n",
       "      <td>Private household services</td>\n",
       "      <td>...</td>\n",
       "      <td>Trinadad&amp;Tobago</td>\n",
       "      <td>Trinadad&amp;Tobago</td>\n",
       "      <td>Trinadad&amp;Tobago</td>\n",
       "      <td>Foreign born- Not a citizen of U S</td>\n",
       "      <td>0</td>\n",
       "      <td>Not in universe</td>\n",
       "      <td>2</td>\n",
       "      <td>30</td>\n",
       "      <td>94</td>\n",
       "      <td>1.0</td>\n",
       "    </tr>\n",
       "    <tr>\n",
       "      <th>13</th>\n",
       "      <td>26</td>\n",
       "      <td>Private</td>\n",
       "      <td>33</td>\n",
       "      <td>29</td>\n",
       "      <td>Some college but no degree</td>\n",
       "      <td>425</td>\n",
       "      <td>Not in universe</td>\n",
       "      <td>Never married</td>\n",
       "      <td>Retail trade</td>\n",
       "      <td>Other service</td>\n",
       "      <td>...</td>\n",
       "      <td>United-States</td>\n",
       "      <td>United-States</td>\n",
       "      <td>United-States</td>\n",
       "      <td>Native- Born in the United States</td>\n",
       "      <td>0</td>\n",
       "      <td>Not in universe</td>\n",
       "      <td>2</td>\n",
       "      <td>17</td>\n",
       "      <td>94</td>\n",
       "      <td>1.0</td>\n",
       "    </tr>\n",
       "    <tr>\n",
       "      <th>14</th>\n",
       "      <td>46</td>\n",
       "      <td>Private</td>\n",
       "      <td>37</td>\n",
       "      <td>21</td>\n",
       "      <td>High school graduate</td>\n",
       "      <td>0</td>\n",
       "      <td>Not in universe</td>\n",
       "      <td>Married-civilian spouse present</td>\n",
       "      <td>Business and repair services</td>\n",
       "      <td>Adm support including clerical</td>\n",
       "      <td>...</td>\n",
       "      <td>United-States</td>\n",
       "      <td>United-States</td>\n",
       "      <td>United-States</td>\n",
       "      <td>Native- Born in the United States</td>\n",
       "      <td>0</td>\n",
       "      <td>Not in universe</td>\n",
       "      <td>2</td>\n",
       "      <td>52</td>\n",
       "      <td>95</td>\n",
       "      <td>1.0</td>\n",
       "    </tr>\n",
       "    <tr>\n",
       "      <th>15</th>\n",
       "      <td>19</td>\n",
       "      <td>Private</td>\n",
       "      <td>33</td>\n",
       "      <td>26</td>\n",
       "      <td>Some college but no degree</td>\n",
       "      <td>0</td>\n",
       "      <td>College or university</td>\n",
       "      <td>Never married</td>\n",
       "      <td>Retail trade</td>\n",
       "      <td>Adm support including clerical</td>\n",
       "      <td>...</td>\n",
       "      <td>United-States</td>\n",
       "      <td>United-States</td>\n",
       "      <td>United-States</td>\n",
       "      <td>Native- Born in the United States</td>\n",
       "      <td>0</td>\n",
       "      <td>Not in universe</td>\n",
       "      <td>2</td>\n",
       "      <td>52</td>\n",
       "      <td>95</td>\n",
       "      <td>1.0</td>\n",
       "    </tr>\n",
       "    <tr>\n",
       "      <th>16</th>\n",
       "      <td>11</td>\n",
       "      <td>Not in universe</td>\n",
       "      <td>0</td>\n",
       "      <td>0</td>\n",
       "      <td>Children</td>\n",
       "      <td>0</td>\n",
       "      <td>Not in universe</td>\n",
       "      <td>Never married</td>\n",
       "      <td>Not in universe or children</td>\n",
       "      <td>Not in universe</td>\n",
       "      <td>...</td>\n",
       "      <td>Mexico</td>\n",
       "      <td>United-States</td>\n",
       "      <td>United-States</td>\n",
       "      <td>Native- Born in the United States</td>\n",
       "      <td>0</td>\n",
       "      <td>Not in universe</td>\n",
       "      <td>0</td>\n",
       "      <td>0</td>\n",
       "      <td>95</td>\n",
       "      <td>1.0</td>\n",
       "    </tr>\n",
       "    <tr>\n",
       "      <th>17</th>\n",
       "      <td>23</td>\n",
       "      <td>Private</td>\n",
       "      <td>45</td>\n",
       "      <td>26</td>\n",
       "      <td>Bachelors degree(BA AB BS)</td>\n",
       "      <td>0</td>\n",
       "      <td>College or university</td>\n",
       "      <td>Married-civilian spouse present</td>\n",
       "      <td>Other professional services</td>\n",
       "      <td>Adm support including clerical</td>\n",
       "      <td>...</td>\n",
       "      <td>United-States</td>\n",
       "      <td>United-States</td>\n",
       "      <td>United-States</td>\n",
       "      <td>Native- Born in the United States</td>\n",
       "      <td>0</td>\n",
       "      <td>Not in universe</td>\n",
       "      <td>2</td>\n",
       "      <td>52</td>\n",
       "      <td>95</td>\n",
       "      <td>1.0</td>\n",
       "    </tr>\n",
       "    <tr>\n",
       "      <th>18</th>\n",
       "      <td>27</td>\n",
       "      <td>Private</td>\n",
       "      <td>37</td>\n",
       "      <td>31</td>\n",
       "      <td>High school graduate</td>\n",
       "      <td>0</td>\n",
       "      <td>Not in universe</td>\n",
       "      <td>Married-civilian spouse present</td>\n",
       "      <td>Business and repair services</td>\n",
       "      <td>Other service</td>\n",
       "      <td>...</td>\n",
       "      <td>?</td>\n",
       "      <td>?</td>\n",
       "      <td>?</td>\n",
       "      <td>Foreign born- Not a citizen of U S</td>\n",
       "      <td>1</td>\n",
       "      <td>Not in universe</td>\n",
       "      <td>2</td>\n",
       "      <td>50</td>\n",
       "      <td>94</td>\n",
       "      <td>1.0</td>\n",
       "    </tr>\n",
       "    <tr>\n",
       "      <th>19</th>\n",
       "      <td>35</td>\n",
       "      <td>Self-employed-not incorporated</td>\n",
       "      <td>4</td>\n",
       "      <td>2</td>\n",
       "      <td>High school graduate</td>\n",
       "      <td>0</td>\n",
       "      <td>Not in universe</td>\n",
       "      <td>Divorced</td>\n",
       "      <td>Construction</td>\n",
       "      <td>Executive admin and managerial</td>\n",
       "      <td>...</td>\n",
       "      <td>United-States</td>\n",
       "      <td>United-States</td>\n",
       "      <td>United-States</td>\n",
       "      <td>Native- Born in the United States</td>\n",
       "      <td>0</td>\n",
       "      <td>Not in universe</td>\n",
       "      <td>2</td>\n",
       "      <td>52</td>\n",
       "      <td>95</td>\n",
       "      <td>0.0</td>\n",
       "    </tr>\n",
       "    <tr>\n",
       "      <th>20</th>\n",
       "      <td>8</td>\n",
       "      <td>Not in universe</td>\n",
       "      <td>0</td>\n",
       "      <td>0</td>\n",
       "      <td>Children</td>\n",
       "      <td>0</td>\n",
       "      <td>Not in universe</td>\n",
       "      <td>Never married</td>\n",
       "      <td>Not in universe or children</td>\n",
       "      <td>Not in universe</td>\n",
       "      <td>...</td>\n",
       "      <td>United-States</td>\n",
       "      <td>United-States</td>\n",
       "      <td>United-States</td>\n",
       "      <td>Native- Born in the United States</td>\n",
       "      <td>0</td>\n",
       "      <td>Not in universe</td>\n",
       "      <td>0</td>\n",
       "      <td>0</td>\n",
       "      <td>94</td>\n",
       "      <td>1.0</td>\n",
       "    </tr>\n",
       "    <tr>\n",
       "      <th>21</th>\n",
       "      <td>29</td>\n",
       "      <td>Not in universe</td>\n",
       "      <td>0</td>\n",
       "      <td>0</td>\n",
       "      <td>High school graduate</td>\n",
       "      <td>0</td>\n",
       "      <td>Not in universe</td>\n",
       "      <td>Married-civilian spouse present</td>\n",
       "      <td>Not in universe or children</td>\n",
       "      <td>Not in universe</td>\n",
       "      <td>...</td>\n",
       "      <td>United-States</td>\n",
       "      <td>United-States</td>\n",
       "      <td>United-States</td>\n",
       "      <td>Native- Born in the United States</td>\n",
       "      <td>0</td>\n",
       "      <td>Not in universe</td>\n",
       "      <td>2</td>\n",
       "      <td>0</td>\n",
       "      <td>94</td>\n",
       "      <td>1.0</td>\n",
       "    </tr>\n",
       "    <tr>\n",
       "      <th>22</th>\n",
       "      <td>40</td>\n",
       "      <td>Private</td>\n",
       "      <td>42</td>\n",
       "      <td>2</td>\n",
       "      <td>Some college but no degree</td>\n",
       "      <td>0</td>\n",
       "      <td>Not in universe</td>\n",
       "      <td>Divorced</td>\n",
       "      <td>Medical except hospital</td>\n",
       "      <td>Executive admin and managerial</td>\n",
       "      <td>...</td>\n",
       "      <td>?</td>\n",
       "      <td>?</td>\n",
       "      <td>?</td>\n",
       "      <td>Foreign born- U S citizen by naturalization</td>\n",
       "      <td>0</td>\n",
       "      <td>Not in universe</td>\n",
       "      <td>2</td>\n",
       "      <td>52</td>\n",
       "      <td>95</td>\n",
       "      <td>1.0</td>\n",
       "    </tr>\n",
       "    <tr>\n",
       "      <th>23</th>\n",
       "      <td>24</td>\n",
       "      <td>Private</td>\n",
       "      <td>33</td>\n",
       "      <td>16</td>\n",
       "      <td>High school graduate</td>\n",
       "      <td>0</td>\n",
       "      <td>Not in universe</td>\n",
       "      <td>Married-civilian spouse present</td>\n",
       "      <td>Retail trade</td>\n",
       "      <td>Sales</td>\n",
       "      <td>...</td>\n",
       "      <td>United-States</td>\n",
       "      <td>United-States</td>\n",
       "      <td>United-States</td>\n",
       "      <td>Native- Born in the United States</td>\n",
       "      <td>0</td>\n",
       "      <td>Not in universe</td>\n",
       "      <td>2</td>\n",
       "      <td>52</td>\n",
       "      <td>94</td>\n",
       "      <td>1.0</td>\n",
       "    </tr>\n",
       "    <tr>\n",
       "      <th>24</th>\n",
       "      <td>45</td>\n",
       "      <td>Private</td>\n",
       "      <td>33</td>\n",
       "      <td>16</td>\n",
       "      <td>Some college but no degree</td>\n",
       "      <td>930</td>\n",
       "      <td>Not in universe</td>\n",
       "      <td>Married-civilian spouse present</td>\n",
       "      <td>Retail trade</td>\n",
       "      <td>Sales</td>\n",
       "      <td>...</td>\n",
       "      <td>United-States</td>\n",
       "      <td>United-States</td>\n",
       "      <td>United-States</td>\n",
       "      <td>Native- Born in the United States</td>\n",
       "      <td>0</td>\n",
       "      <td>Not in universe</td>\n",
       "      <td>2</td>\n",
       "      <td>52</td>\n",
       "      <td>94</td>\n",
       "      <td>1.0</td>\n",
       "    </tr>\n",
       "    <tr>\n",
       "      <th>25</th>\n",
       "      <td>27</td>\n",
       "      <td>Private</td>\n",
       "      <td>40</td>\n",
       "      <td>23</td>\n",
       "      <td>Some college but no degree</td>\n",
       "      <td>0</td>\n",
       "      <td>Not in universe</td>\n",
       "      <td>Never married</td>\n",
       "      <td>Entertainment</td>\n",
       "      <td>Adm support including clerical</td>\n",
       "      <td>...</td>\n",
       "      <td>United-States</td>\n",
       "      <td>United-States</td>\n",
       "      <td>United-States</td>\n",
       "      <td>Native- Born in the United States</td>\n",
       "      <td>0</td>\n",
       "      <td>Not in universe</td>\n",
       "      <td>2</td>\n",
       "      <td>52</td>\n",
       "      <td>94</td>\n",
       "      <td>1.0</td>\n",
       "    </tr>\n",
       "    <tr>\n",
       "      <th>26</th>\n",
       "      <td>41</td>\n",
       "      <td>Local government</td>\n",
       "      <td>47</td>\n",
       "      <td>28</td>\n",
       "      <td>High school graduate</td>\n",
       "      <td>0</td>\n",
       "      <td>Not in universe</td>\n",
       "      <td>Married-civilian spouse present</td>\n",
       "      <td>Public administration</td>\n",
       "      <td>Protective services</td>\n",
       "      <td>...</td>\n",
       "      <td>United-States</td>\n",
       "      <td>United-States</td>\n",
       "      <td>United-States</td>\n",
       "      <td>Native- Born in the United States</td>\n",
       "      <td>0</td>\n",
       "      <td>Not in universe</td>\n",
       "      <td>2</td>\n",
       "      <td>52</td>\n",
       "      <td>94</td>\n",
       "      <td>1.0</td>\n",
       "    </tr>\n",
       "    <tr>\n",
       "      <th>27</th>\n",
       "      <td>14</td>\n",
       "      <td>Not in universe</td>\n",
       "      <td>0</td>\n",
       "      <td>0</td>\n",
       "      <td>Children</td>\n",
       "      <td>0</td>\n",
       "      <td>Not in universe</td>\n",
       "      <td>Never married</td>\n",
       "      <td>Not in universe or children</td>\n",
       "      <td>Not in universe</td>\n",
       "      <td>...</td>\n",
       "      <td>United-States</td>\n",
       "      <td>United-States</td>\n",
       "      <td>United-States</td>\n",
       "      <td>Native- Born in the United States</td>\n",
       "      <td>0</td>\n",
       "      <td>Not in universe</td>\n",
       "      <td>0</td>\n",
       "      <td>0</td>\n",
       "      <td>94</td>\n",
       "      <td>1.0</td>\n",
       "    </tr>\n",
       "    <tr>\n",
       "      <th>28</th>\n",
       "      <td>73</td>\n",
       "      <td>Not in universe</td>\n",
       "      <td>0</td>\n",
       "      <td>0</td>\n",
       "      <td>7th and 8th grade</td>\n",
       "      <td>0</td>\n",
       "      <td>Not in universe</td>\n",
       "      <td>Married-civilian spouse present</td>\n",
       "      <td>Not in universe or children</td>\n",
       "      <td>Not in universe</td>\n",
       "      <td>...</td>\n",
       "      <td>?</td>\n",
       "      <td>?</td>\n",
       "      <td>United-States</td>\n",
       "      <td>Native- Born in the United States</td>\n",
       "      <td>0</td>\n",
       "      <td>Not in universe</td>\n",
       "      <td>2</td>\n",
       "      <td>0</td>\n",
       "      <td>95</td>\n",
       "      <td>1.0</td>\n",
       "    </tr>\n",
       "    <tr>\n",
       "      <th>29</th>\n",
       "      <td>46</td>\n",
       "      <td>Private</td>\n",
       "      <td>32</td>\n",
       "      <td>33</td>\n",
       "      <td>Some college but no degree</td>\n",
       "      <td>0</td>\n",
       "      <td>Not in universe</td>\n",
       "      <td>Married-civilian spouse present</td>\n",
       "      <td>Wholesale trade</td>\n",
       "      <td>Precision production craft &amp; repair</td>\n",
       "      <td>...</td>\n",
       "      <td>United-States</td>\n",
       "      <td>United-States</td>\n",
       "      <td>United-States</td>\n",
       "      <td>Native- Born in the United States</td>\n",
       "      <td>0</td>\n",
       "      <td>Not in universe</td>\n",
       "      <td>2</td>\n",
       "      <td>36</td>\n",
       "      <td>94</td>\n",
       "      <td>1.0</td>\n",
       "    </tr>\n",
       "  </tbody>\n",
       "</table>\n",
       "<p>30 rows × 42 columns</p>\n",
       "</div>"
      ],
      "text/plain": [
       "    age                  class of worker   industry code   occupation code  \\\n",
       "0    38                          Private               6                36   \n",
       "1    44   Self-employed-not incorporated              37                12   \n",
       "2     2                  Not in universe               0                 0   \n",
       "3    35                          Private              29                 3   \n",
       "4    49                          Private               4                34   \n",
       "5    13                  Not in universe               0                 0   \n",
       "6     1                  Not in universe               0                 0   \n",
       "7    61                  Not in universe               0                 0   \n",
       "8    38                          Private              45                12   \n",
       "9     7                  Not in universe               0                 0   \n",
       "10   30                          Private              30                26   \n",
       "11   85                  Not in universe               0                 0   \n",
       "12   33                          Private              36                27   \n",
       "13   26                          Private              33                29   \n",
       "14   46                          Private              37                21   \n",
       "15   19                          Private              33                26   \n",
       "16   11                  Not in universe               0                 0   \n",
       "17   23                          Private              45                26   \n",
       "18   27                          Private              37                31   \n",
       "19   35   Self-employed-not incorporated               4                 2   \n",
       "20    8                  Not in universe               0                 0   \n",
       "21   29                  Not in universe               0                 0   \n",
       "22   40                          Private              42                 2   \n",
       "23   24                          Private              33                16   \n",
       "24   45                          Private              33                16   \n",
       "25   27                          Private              40                23   \n",
       "26   41                 Local government              47                28   \n",
       "27   14                  Not in universe               0                 0   \n",
       "28   73                  Not in universe               0                 0   \n",
       "29   46                          Private              32                33   \n",
       "\n",
       "                                  education   wage per hour  \\\n",
       "0                  1st 2nd 3rd or 4th grade               0   \n",
       "1       Associates degree-occup /vocational               0   \n",
       "2                                  Children               0   \n",
       "3                      High school graduate               0   \n",
       "4                      High school graduate               0   \n",
       "5                                  Children               0   \n",
       "6                                  Children               0   \n",
       "7                      High school graduate               0   \n",
       "8    Masters degree(MA MS MEng MEd MSW MBA)               0   \n",
       "9                                  Children               0   \n",
       "10               Bachelors degree(BA AB BS)               0   \n",
       "11                               10th grade               0   \n",
       "12                     High school graduate               0   \n",
       "13               Some college but no degree             425   \n",
       "14                     High school graduate               0   \n",
       "15               Some college but no degree               0   \n",
       "16                                 Children               0   \n",
       "17               Bachelors degree(BA AB BS)               0   \n",
       "18                     High school graduate               0   \n",
       "19                     High school graduate               0   \n",
       "20                                 Children               0   \n",
       "21                     High school graduate               0   \n",
       "22               Some college but no degree               0   \n",
       "23                     High school graduate               0   \n",
       "24               Some college but no degree             930   \n",
       "25               Some college but no degree               0   \n",
       "26                     High school graduate               0   \n",
       "27                                 Children               0   \n",
       "28                        7th and 8th grade               0   \n",
       "29               Some college but no degree               0   \n",
       "\n",
       "    enrolled in edu inst last wk                    marital status  \\\n",
       "0                Not in universe   Married-civilian spouse present   \n",
       "1                Not in universe   Married-civilian spouse present   \n",
       "2                Not in universe                     Never married   \n",
       "3                Not in universe                          Divorced   \n",
       "4                Not in universe                          Divorced   \n",
       "5                Not in universe                     Never married   \n",
       "6                Not in universe                     Never married   \n",
       "7                Not in universe   Married-civilian spouse present   \n",
       "8                Not in universe   Married-civilian spouse present   \n",
       "9                Not in universe                     Never married   \n",
       "10               Not in universe   Married-civilian spouse present   \n",
       "11               Not in universe   Married-civilian spouse present   \n",
       "12               Not in universe   Married-civilian spouse present   \n",
       "13               Not in universe                     Never married   \n",
       "14               Not in universe   Married-civilian spouse present   \n",
       "15         College or university                     Never married   \n",
       "16               Not in universe                     Never married   \n",
       "17         College or university   Married-civilian spouse present   \n",
       "18               Not in universe   Married-civilian spouse present   \n",
       "19               Not in universe                          Divorced   \n",
       "20               Not in universe                     Never married   \n",
       "21               Not in universe   Married-civilian spouse present   \n",
       "22               Not in universe                          Divorced   \n",
       "23               Not in universe   Married-civilian spouse present   \n",
       "24               Not in universe   Married-civilian spouse present   \n",
       "25               Not in universe                     Never married   \n",
       "26               Not in universe   Married-civilian spouse present   \n",
       "27               Not in universe                     Never married   \n",
       "28               Not in universe   Married-civilian spouse present   \n",
       "29               Not in universe   Married-civilian spouse present   \n",
       "\n",
       "              major industry code                   major occupation code  \\\n",
       "0     Manufacturing-durable goods   Machine operators assmblrs & inspctrs   \n",
       "1    Business and repair services                  Professional specialty   \n",
       "2     Not in universe or children                         Not in universe   \n",
       "3                  Transportation          Executive admin and managerial   \n",
       "4                    Construction     Precision production craft & repair   \n",
       "5     Not in universe or children                         Not in universe   \n",
       "6     Not in universe or children                         Not in universe   \n",
       "7     Not in universe or children                         Not in universe   \n",
       "8     Other professional services                  Professional specialty   \n",
       "9     Not in universe or children                         Not in universe   \n",
       "10                 Communications          Adm support including clerical   \n",
       "11    Not in universe or children                         Not in universe   \n",
       "12     Private household services              Private household services   \n",
       "13                   Retail trade                           Other service   \n",
       "14   Business and repair services          Adm support including clerical   \n",
       "15                   Retail trade          Adm support including clerical   \n",
       "16    Not in universe or children                         Not in universe   \n",
       "17    Other professional services          Adm support including clerical   \n",
       "18   Business and repair services                           Other service   \n",
       "19                   Construction          Executive admin and managerial   \n",
       "20    Not in universe or children                         Not in universe   \n",
       "21    Not in universe or children                         Not in universe   \n",
       "22        Medical except hospital          Executive admin and managerial   \n",
       "23                   Retail trade                                   Sales   \n",
       "24                   Retail trade                                   Sales   \n",
       "25                  Entertainment          Adm support including clerical   \n",
       "26          Public administration                     Protective services   \n",
       "27    Not in universe or children                         Not in universe   \n",
       "28    Not in universe or children                         Not in universe   \n",
       "29                Wholesale trade     Precision production craft & repair   \n",
       "\n",
       "     ...    country of birth father  country of birth mother  \\\n",
       "0    ...                     Mexico                   Mexico   \n",
       "1    ...              United-States            United-States   \n",
       "2    ...              United-States            United-States   \n",
       "3    ...              United-States            United-States   \n",
       "4    ...              United-States            United-States   \n",
       "5    ...                    Germany            United-States   \n",
       "6    ...                     Mexico            United-States   \n",
       "7    ...              United-States            United-States   \n",
       "8    ...              United-States            United-States   \n",
       "9    ...              United-States            United-States   \n",
       "10   ...              United-States            United-States   \n",
       "11   ...              United-States            United-States   \n",
       "12   ...            Trinadad&Tobago          Trinadad&Tobago   \n",
       "13   ...              United-States            United-States   \n",
       "14   ...              United-States            United-States   \n",
       "15   ...              United-States            United-States   \n",
       "16   ...                     Mexico            United-States   \n",
       "17   ...              United-States            United-States   \n",
       "18   ...                          ?                        ?   \n",
       "19   ...              United-States            United-States   \n",
       "20   ...              United-States            United-States   \n",
       "21   ...              United-States            United-States   \n",
       "22   ...                          ?                        ?   \n",
       "23   ...              United-States            United-States   \n",
       "24   ...              United-States            United-States   \n",
       "25   ...              United-States            United-States   \n",
       "26   ...              United-States            United-States   \n",
       "27   ...              United-States            United-States   \n",
       "28   ...                          ?                        ?   \n",
       "29   ...              United-States            United-States   \n",
       "\n",
       "    country of birth self                                   citizenship  \\\n",
       "0                  Mexico           Foreign born- Not a citizen of U S    \n",
       "1           United-States             Native- Born in the United States   \n",
       "2           United-States             Native- Born in the United States   \n",
       "3           United-States             Native- Born in the United States   \n",
       "4           United-States             Native- Born in the United States   \n",
       "5           United-States             Native- Born in the United States   \n",
       "6           United-States             Native- Born in the United States   \n",
       "7           United-States             Native- Born in the United States   \n",
       "8           United-States             Native- Born in the United States   \n",
       "9           United-States             Native- Born in the United States   \n",
       "10          United-States             Native- Born in the United States   \n",
       "11          United-States             Native- Born in the United States   \n",
       "12        Trinadad&Tobago           Foreign born- Not a citizen of U S    \n",
       "13          United-States             Native- Born in the United States   \n",
       "14          United-States             Native- Born in the United States   \n",
       "15          United-States             Native- Born in the United States   \n",
       "16          United-States             Native- Born in the United States   \n",
       "17          United-States             Native- Born in the United States   \n",
       "18                      ?           Foreign born- Not a citizen of U S    \n",
       "19          United-States             Native- Born in the United States   \n",
       "20          United-States             Native- Born in the United States   \n",
       "21          United-States             Native- Born in the United States   \n",
       "22                      ?   Foreign born- U S citizen by naturalization   \n",
       "23          United-States             Native- Born in the United States   \n",
       "24          United-States             Native- Born in the United States   \n",
       "25          United-States             Native- Born in the United States   \n",
       "26          United-States             Native- Born in the United States   \n",
       "27          United-States             Native- Born in the United States   \n",
       "28          United-States             Native- Born in the United States   \n",
       "29          United-States             Native- Born in the United States   \n",
       "\n",
       "    own business or self employed  fill inc questionnaire for veteran's admin  \\\n",
       "0                               0                             Not in universe   \n",
       "1                               0                             Not in universe   \n",
       "2                               0                             Not in universe   \n",
       "3                               2                             Not in universe   \n",
       "4                               0                             Not in universe   \n",
       "5                               0                             Not in universe   \n",
       "6                               0                             Not in universe   \n",
       "7                               0                             Not in universe   \n",
       "8                               0                             Not in universe   \n",
       "9                               0                             Not in universe   \n",
       "10                              0                             Not in universe   \n",
       "11                              0                             Not in universe   \n",
       "12                              0                             Not in universe   \n",
       "13                              0                             Not in universe   \n",
       "14                              0                             Not in universe   \n",
       "15                              0                             Not in universe   \n",
       "16                              0                             Not in universe   \n",
       "17                              0                             Not in universe   \n",
       "18                              1                             Not in universe   \n",
       "19                              0                             Not in universe   \n",
       "20                              0                             Not in universe   \n",
       "21                              0                             Not in universe   \n",
       "22                              0                             Not in universe   \n",
       "23                              0                             Not in universe   \n",
       "24                              0                             Not in universe   \n",
       "25                              0                             Not in universe   \n",
       "26                              0                             Not in universe   \n",
       "27                              0                             Not in universe   \n",
       "28                              0                             Not in universe   \n",
       "29                              0                             Not in universe   \n",
       "\n",
       "     veterans benefits   weeks worked in year   year  income  \n",
       "0                    2                     12     95     1.0  \n",
       "1                    2                     26     95     1.0  \n",
       "2                    0                      0     95     1.0  \n",
       "3                    2                     52     94     1.0  \n",
       "4                    2                     50     95     1.0  \n",
       "5                    0                      0     94     1.0  \n",
       "6                    0                      0     94     1.0  \n",
       "7                    2                      0     95     1.0  \n",
       "8                    2                     52     94     1.0  \n",
       "9                    0                      0     94     1.0  \n",
       "10                   2                     52     95     1.0  \n",
       "11                   2                      0     95     1.0  \n",
       "12                   2                     30     94     1.0  \n",
       "13                   2                     17     94     1.0  \n",
       "14                   2                     52     95     1.0  \n",
       "15                   2                     52     95     1.0  \n",
       "16                   0                      0     95     1.0  \n",
       "17                   2                     52     95     1.0  \n",
       "18                   2                     50     94     1.0  \n",
       "19                   2                     52     95     0.0  \n",
       "20                   0                      0     94     1.0  \n",
       "21                   2                      0     94     1.0  \n",
       "22                   2                     52     95     1.0  \n",
       "23                   2                     52     94     1.0  \n",
       "24                   2                     52     94     1.0  \n",
       "25                   2                     52     94     1.0  \n",
       "26                   2                     52     94     1.0  \n",
       "27                   0                      0     94     1.0  \n",
       "28                   2                      0     95     1.0  \n",
       "29                   2                     36     94     1.0  \n",
       "\n",
       "[30 rows x 42 columns]"
      ]
     },
     "execution_count": 23,
     "metadata": {},
     "output_type": "execute_result"
    }
   ],
   "source": [
    "census_test.head(30)"
   ]
  },
  {
   "cell_type": "markdown",
   "metadata": {},
   "source": [
    "** We will now do some analysis with the data. We group 'age' and 'income' and count the numbers in those groups.**"
   ]
  },
  {
   "cell_type": "code",
   "execution_count": 24,
   "metadata": {
    "collapsed": false
   },
   "outputs": [],
   "source": [
    "count_census_age=census_learn.groupby(['age',' income']).size()"
   ]
  },
  {
   "cell_type": "code",
   "execution_count": 25,
   "metadata": {
    "collapsed": false
   },
   "outputs": [
    {
     "data": {
      "text/plain": [
       "age   income\n",
       "0    1.0        2839\n",
       "1    1.0        3138\n",
       "2    1.0        3236\n",
       "3    1.0        3279\n",
       "4    1.0        3318\n",
       "5    1.0        3332\n",
       "6    1.0        3171\n",
       "7    1.0        3218\n",
       "8    1.0        3187\n",
       "9    1.0        3162\n",
       "10   1.0        3134\n",
       "11   1.0        3128\n",
       "12   1.0        3060\n",
       "13   1.0        3152\n",
       "14   1.0        3068\n",
       "15   1.0        2926\n",
       "16   0.0           1\n",
       "     1.0        2881\n",
       "17   0.0           1\n",
       "     1.0        2761\n",
       "18   0.0           1\n",
       "     1.0        2483\n",
       "19   0.0           5\n",
       "     1.0        2414\n",
       "20   0.0          12\n",
       "     1.0        2378\n",
       "21   0.0           8\n",
       "     1.0        2378\n",
       "22   0.0          23\n",
       "     1.0        2550\n",
       "                ... \n",
       "76   0.0          39\n",
       "     1.0        1011\n",
       "77   0.0          36\n",
       "     1.0         943\n",
       "78   0.0          29\n",
       "     1.0         847\n",
       "79   0.0          24\n",
       "     1.0         787\n",
       "80   0.0          25\n",
       "     1.0         774\n",
       "81   0.0          18\n",
       "     1.0         702\n",
       "82   0.0           7\n",
       "     1.0         608\n",
       "83   0.0          10\n",
       "     1.0         551\n",
       "84   0.0           7\n",
       "     1.0         512\n",
       "85   0.0          11\n",
       "     1.0         412\n",
       "86   0.0           7\n",
       "     1.0         341\n",
       "87   0.0           5\n",
       "     1.0         296\n",
       "88   0.0           5\n",
       "     1.0         236\n",
       "89   0.0           3\n",
       "     1.0         192\n",
       "90   0.0          23\n",
       "     1.0         702\n",
       "dtype: int64"
      ]
     },
     "execution_count": 25,
     "metadata": {},
     "output_type": "execute_result"
    }
   ],
   "source": [
    "count_census_age"
   ]
  },
  {
   "cell_type": "markdown",
   "metadata": {},
   "source": [
    "**We create a dataframe 'age_census' out of it below.**"
   ]
  },
  {
   "cell_type": "code",
   "execution_count": 26,
   "metadata": {
    "collapsed": true
   },
   "outputs": [],
   "source": [
    "age_census=pd.DataFrame(data=dict(count_census_age=count_census_age)).reset_index()"
   ]
  },
  {
   "cell_type": "code",
   "execution_count": 27,
   "metadata": {
    "collapsed": false
   },
   "outputs": [
    {
     "data": {
      "text/html": [
       "<div>\n",
       "<table border=\"1\" class=\"dataframe\">\n",
       "  <thead>\n",
       "    <tr style=\"text-align: right;\">\n",
       "      <th></th>\n",
       "      <th>age</th>\n",
       "      <th>income</th>\n",
       "      <th>count_census_age</th>\n",
       "    </tr>\n",
       "  </thead>\n",
       "  <tbody>\n",
       "    <tr>\n",
       "      <th>0</th>\n",
       "      <td>0</td>\n",
       "      <td>1.0</td>\n",
       "      <td>2839</td>\n",
       "    </tr>\n",
       "    <tr>\n",
       "      <th>1</th>\n",
       "      <td>1</td>\n",
       "      <td>1.0</td>\n",
       "      <td>3138</td>\n",
       "    </tr>\n",
       "    <tr>\n",
       "      <th>2</th>\n",
       "      <td>2</td>\n",
       "      <td>1.0</td>\n",
       "      <td>3236</td>\n",
       "    </tr>\n",
       "    <tr>\n",
       "      <th>3</th>\n",
       "      <td>3</td>\n",
       "      <td>1.0</td>\n",
       "      <td>3279</td>\n",
       "    </tr>\n",
       "    <tr>\n",
       "      <th>4</th>\n",
       "      <td>4</td>\n",
       "      <td>1.0</td>\n",
       "      <td>3318</td>\n",
       "    </tr>\n",
       "    <tr>\n",
       "      <th>5</th>\n",
       "      <td>5</td>\n",
       "      <td>1.0</td>\n",
       "      <td>3332</td>\n",
       "    </tr>\n",
       "    <tr>\n",
       "      <th>6</th>\n",
       "      <td>6</td>\n",
       "      <td>1.0</td>\n",
       "      <td>3171</td>\n",
       "    </tr>\n",
       "    <tr>\n",
       "      <th>7</th>\n",
       "      <td>7</td>\n",
       "      <td>1.0</td>\n",
       "      <td>3218</td>\n",
       "    </tr>\n",
       "    <tr>\n",
       "      <th>8</th>\n",
       "      <td>8</td>\n",
       "      <td>1.0</td>\n",
       "      <td>3187</td>\n",
       "    </tr>\n",
       "    <tr>\n",
       "      <th>9</th>\n",
       "      <td>9</td>\n",
       "      <td>1.0</td>\n",
       "      <td>3162</td>\n",
       "    </tr>\n",
       "    <tr>\n",
       "      <th>10</th>\n",
       "      <td>10</td>\n",
       "      <td>1.0</td>\n",
       "      <td>3134</td>\n",
       "    </tr>\n",
       "    <tr>\n",
       "      <th>11</th>\n",
       "      <td>11</td>\n",
       "      <td>1.0</td>\n",
       "      <td>3128</td>\n",
       "    </tr>\n",
       "    <tr>\n",
       "      <th>12</th>\n",
       "      <td>12</td>\n",
       "      <td>1.0</td>\n",
       "      <td>3060</td>\n",
       "    </tr>\n",
       "    <tr>\n",
       "      <th>13</th>\n",
       "      <td>13</td>\n",
       "      <td>1.0</td>\n",
       "      <td>3152</td>\n",
       "    </tr>\n",
       "    <tr>\n",
       "      <th>14</th>\n",
       "      <td>14</td>\n",
       "      <td>1.0</td>\n",
       "      <td>3068</td>\n",
       "    </tr>\n",
       "    <tr>\n",
       "      <th>15</th>\n",
       "      <td>15</td>\n",
       "      <td>1.0</td>\n",
       "      <td>2926</td>\n",
       "    </tr>\n",
       "    <tr>\n",
       "      <th>16</th>\n",
       "      <td>16</td>\n",
       "      <td>0.0</td>\n",
       "      <td>1</td>\n",
       "    </tr>\n",
       "    <tr>\n",
       "      <th>17</th>\n",
       "      <td>16</td>\n",
       "      <td>1.0</td>\n",
       "      <td>2881</td>\n",
       "    </tr>\n",
       "    <tr>\n",
       "      <th>18</th>\n",
       "      <td>17</td>\n",
       "      <td>0.0</td>\n",
       "      <td>1</td>\n",
       "    </tr>\n",
       "    <tr>\n",
       "      <th>19</th>\n",
       "      <td>17</td>\n",
       "      <td>1.0</td>\n",
       "      <td>2761</td>\n",
       "    </tr>\n",
       "    <tr>\n",
       "      <th>20</th>\n",
       "      <td>18</td>\n",
       "      <td>0.0</td>\n",
       "      <td>1</td>\n",
       "    </tr>\n",
       "    <tr>\n",
       "      <th>21</th>\n",
       "      <td>18</td>\n",
       "      <td>1.0</td>\n",
       "      <td>2483</td>\n",
       "    </tr>\n",
       "    <tr>\n",
       "      <th>22</th>\n",
       "      <td>19</td>\n",
       "      <td>0.0</td>\n",
       "      <td>5</td>\n",
       "    </tr>\n",
       "    <tr>\n",
       "      <th>23</th>\n",
       "      <td>19</td>\n",
       "      <td>1.0</td>\n",
       "      <td>2414</td>\n",
       "    </tr>\n",
       "    <tr>\n",
       "      <th>24</th>\n",
       "      <td>20</td>\n",
       "      <td>0.0</td>\n",
       "      <td>12</td>\n",
       "    </tr>\n",
       "    <tr>\n",
       "      <th>25</th>\n",
       "      <td>20</td>\n",
       "      <td>1.0</td>\n",
       "      <td>2378</td>\n",
       "    </tr>\n",
       "    <tr>\n",
       "      <th>26</th>\n",
       "      <td>21</td>\n",
       "      <td>0.0</td>\n",
       "      <td>8</td>\n",
       "    </tr>\n",
       "    <tr>\n",
       "      <th>27</th>\n",
       "      <td>21</td>\n",
       "      <td>1.0</td>\n",
       "      <td>2378</td>\n",
       "    </tr>\n",
       "    <tr>\n",
       "      <th>28</th>\n",
       "      <td>22</td>\n",
       "      <td>0.0</td>\n",
       "      <td>23</td>\n",
       "    </tr>\n",
       "    <tr>\n",
       "      <th>29</th>\n",
       "      <td>22</td>\n",
       "      <td>1.0</td>\n",
       "      <td>2550</td>\n",
       "    </tr>\n",
       "    <tr>\n",
       "      <th>...</th>\n",
       "      <td>...</td>\n",
       "      <td>...</td>\n",
       "      <td>...</td>\n",
       "    </tr>\n",
       "    <tr>\n",
       "      <th>136</th>\n",
       "      <td>76</td>\n",
       "      <td>0.0</td>\n",
       "      <td>39</td>\n",
       "    </tr>\n",
       "    <tr>\n",
       "      <th>137</th>\n",
       "      <td>76</td>\n",
       "      <td>1.0</td>\n",
       "      <td>1011</td>\n",
       "    </tr>\n",
       "    <tr>\n",
       "      <th>138</th>\n",
       "      <td>77</td>\n",
       "      <td>0.0</td>\n",
       "      <td>36</td>\n",
       "    </tr>\n",
       "    <tr>\n",
       "      <th>139</th>\n",
       "      <td>77</td>\n",
       "      <td>1.0</td>\n",
       "      <td>943</td>\n",
       "    </tr>\n",
       "    <tr>\n",
       "      <th>140</th>\n",
       "      <td>78</td>\n",
       "      <td>0.0</td>\n",
       "      <td>29</td>\n",
       "    </tr>\n",
       "    <tr>\n",
       "      <th>141</th>\n",
       "      <td>78</td>\n",
       "      <td>1.0</td>\n",
       "      <td>847</td>\n",
       "    </tr>\n",
       "    <tr>\n",
       "      <th>142</th>\n",
       "      <td>79</td>\n",
       "      <td>0.0</td>\n",
       "      <td>24</td>\n",
       "    </tr>\n",
       "    <tr>\n",
       "      <th>143</th>\n",
       "      <td>79</td>\n",
       "      <td>1.0</td>\n",
       "      <td>787</td>\n",
       "    </tr>\n",
       "    <tr>\n",
       "      <th>144</th>\n",
       "      <td>80</td>\n",
       "      <td>0.0</td>\n",
       "      <td>25</td>\n",
       "    </tr>\n",
       "    <tr>\n",
       "      <th>145</th>\n",
       "      <td>80</td>\n",
       "      <td>1.0</td>\n",
       "      <td>774</td>\n",
       "    </tr>\n",
       "    <tr>\n",
       "      <th>146</th>\n",
       "      <td>81</td>\n",
       "      <td>0.0</td>\n",
       "      <td>18</td>\n",
       "    </tr>\n",
       "    <tr>\n",
       "      <th>147</th>\n",
       "      <td>81</td>\n",
       "      <td>1.0</td>\n",
       "      <td>702</td>\n",
       "    </tr>\n",
       "    <tr>\n",
       "      <th>148</th>\n",
       "      <td>82</td>\n",
       "      <td>0.0</td>\n",
       "      <td>7</td>\n",
       "    </tr>\n",
       "    <tr>\n",
       "      <th>149</th>\n",
       "      <td>82</td>\n",
       "      <td>1.0</td>\n",
       "      <td>608</td>\n",
       "    </tr>\n",
       "    <tr>\n",
       "      <th>150</th>\n",
       "      <td>83</td>\n",
       "      <td>0.0</td>\n",
       "      <td>10</td>\n",
       "    </tr>\n",
       "    <tr>\n",
       "      <th>151</th>\n",
       "      <td>83</td>\n",
       "      <td>1.0</td>\n",
       "      <td>551</td>\n",
       "    </tr>\n",
       "    <tr>\n",
       "      <th>152</th>\n",
       "      <td>84</td>\n",
       "      <td>0.0</td>\n",
       "      <td>7</td>\n",
       "    </tr>\n",
       "    <tr>\n",
       "      <th>153</th>\n",
       "      <td>84</td>\n",
       "      <td>1.0</td>\n",
       "      <td>512</td>\n",
       "    </tr>\n",
       "    <tr>\n",
       "      <th>154</th>\n",
       "      <td>85</td>\n",
       "      <td>0.0</td>\n",
       "      <td>11</td>\n",
       "    </tr>\n",
       "    <tr>\n",
       "      <th>155</th>\n",
       "      <td>85</td>\n",
       "      <td>1.0</td>\n",
       "      <td>412</td>\n",
       "    </tr>\n",
       "    <tr>\n",
       "      <th>156</th>\n",
       "      <td>86</td>\n",
       "      <td>0.0</td>\n",
       "      <td>7</td>\n",
       "    </tr>\n",
       "    <tr>\n",
       "      <th>157</th>\n",
       "      <td>86</td>\n",
       "      <td>1.0</td>\n",
       "      <td>341</td>\n",
       "    </tr>\n",
       "    <tr>\n",
       "      <th>158</th>\n",
       "      <td>87</td>\n",
       "      <td>0.0</td>\n",
       "      <td>5</td>\n",
       "    </tr>\n",
       "    <tr>\n",
       "      <th>159</th>\n",
       "      <td>87</td>\n",
       "      <td>1.0</td>\n",
       "      <td>296</td>\n",
       "    </tr>\n",
       "    <tr>\n",
       "      <th>160</th>\n",
       "      <td>88</td>\n",
       "      <td>0.0</td>\n",
       "      <td>5</td>\n",
       "    </tr>\n",
       "    <tr>\n",
       "      <th>161</th>\n",
       "      <td>88</td>\n",
       "      <td>1.0</td>\n",
       "      <td>236</td>\n",
       "    </tr>\n",
       "    <tr>\n",
       "      <th>162</th>\n",
       "      <td>89</td>\n",
       "      <td>0.0</td>\n",
       "      <td>3</td>\n",
       "    </tr>\n",
       "    <tr>\n",
       "      <th>163</th>\n",
       "      <td>89</td>\n",
       "      <td>1.0</td>\n",
       "      <td>192</td>\n",
       "    </tr>\n",
       "    <tr>\n",
       "      <th>164</th>\n",
       "      <td>90</td>\n",
       "      <td>0.0</td>\n",
       "      <td>23</td>\n",
       "    </tr>\n",
       "    <tr>\n",
       "      <th>165</th>\n",
       "      <td>90</td>\n",
       "      <td>1.0</td>\n",
       "      <td>702</td>\n",
       "    </tr>\n",
       "  </tbody>\n",
       "</table>\n",
       "<p>166 rows × 3 columns</p>\n",
       "</div>"
      ],
      "text/plain": [
       "     age   income  count_census_age\n",
       "0      0      1.0              2839\n",
       "1      1      1.0              3138\n",
       "2      2      1.0              3236\n",
       "3      3      1.0              3279\n",
       "4      4      1.0              3318\n",
       "5      5      1.0              3332\n",
       "6      6      1.0              3171\n",
       "7      7      1.0              3218\n",
       "8      8      1.0              3187\n",
       "9      9      1.0              3162\n",
       "10    10      1.0              3134\n",
       "11    11      1.0              3128\n",
       "12    12      1.0              3060\n",
       "13    13      1.0              3152\n",
       "14    14      1.0              3068\n",
       "15    15      1.0              2926\n",
       "16    16      0.0                 1\n",
       "17    16      1.0              2881\n",
       "18    17      0.0                 1\n",
       "19    17      1.0              2761\n",
       "20    18      0.0                 1\n",
       "21    18      1.0              2483\n",
       "22    19      0.0                 5\n",
       "23    19      1.0              2414\n",
       "24    20      0.0                12\n",
       "25    20      1.0              2378\n",
       "26    21      0.0                 8\n",
       "27    21      1.0              2378\n",
       "28    22      0.0                23\n",
       "29    22      1.0              2550\n",
       "..   ...      ...               ...\n",
       "136   76      0.0                39\n",
       "137   76      1.0              1011\n",
       "138   77      0.0                36\n",
       "139   77      1.0               943\n",
       "140   78      0.0                29\n",
       "141   78      1.0               847\n",
       "142   79      0.0                24\n",
       "143   79      1.0               787\n",
       "144   80      0.0                25\n",
       "145   80      1.0               774\n",
       "146   81      0.0                18\n",
       "147   81      1.0               702\n",
       "148   82      0.0                 7\n",
       "149   82      1.0               608\n",
       "150   83      0.0                10\n",
       "151   83      1.0               551\n",
       "152   84      0.0                 7\n",
       "153   84      1.0               512\n",
       "154   85      0.0                11\n",
       "155   85      1.0               412\n",
       "156   86      0.0                 7\n",
       "157   86      1.0               341\n",
       "158   87      0.0                 5\n",
       "159   87      1.0               296\n",
       "160   88      0.0                 5\n",
       "161   88      1.0               236\n",
       "162   89      0.0                 3\n",
       "163   89      1.0               192\n",
       "164   90      0.0                23\n",
       "165   90      1.0               702\n",
       "\n",
       "[166 rows x 3 columns]"
      ]
     },
     "execution_count": 27,
     "metadata": {},
     "output_type": "execute_result"
    }
   ],
   "source": [
    "age_census"
   ]
  },
  {
   "cell_type": "markdown",
   "metadata": {},
   "source": [
    "**Below we create a scatter plot to inpret the above dataframe. We notice that between 15-90 a lot of people are earning less than 50000.**"
   ]
  },
  {
   "cell_type": "code",
   "execution_count": 28,
   "metadata": {
    "collapsed": false
   },
   "outputs": [
    {
     "data": {
      "image/png": "[encoded data removed]",
      "text/plain": [
       "<matplotlib.figure.Figure at 0x1151f8978>"
      ]
     },
     "metadata": {},
     "output_type": "display_data"
    }
   ],
   "source": [
    "import matplotlib.pyplot as plt\n",
    "g = sns.FacetGrid(age_census, col=\" income\",palette='Set1'\n",
    ",size=9, aspect=.6, col_wrap=2)\n",
    "g.map(plt.scatter,'age','count_census_age')\n",
    "g.set_axis_labels(\"age\", \"count\")\n",
    "g.set(xticks=np.arange(0,140,20))\n",
    "g.set(yticks=np.arange(0,4000,500))\n",
    "g.add_legend();"
   ]
  },
  {
   "cell_type": "markdown",
   "metadata": {},
   "source": [
    "**Here we are creating a factor plot using the seaborn package. We notice that a lot of 'class of worker' (male and female) are earning less than 50000 especially especially 'not in universe' and 'private'. We also see that more women in these categories earn less than 50000.**"
   ]
  },
  {
   "cell_type": "code",
   "execution_count": 29,
   "metadata": {
    "collapsed": false
   },
   "outputs": [
    {
     "data": {
      "text/plain": [
       "<seaborn.axisgrid.FacetGrid at 0x10499b908>"
      ]
     },
     "execution_count": 29,
     "metadata": {},
     "output_type": "execute_result"
    },
    {
     "data": {
      "image/png": "[encoded data removed]",
      "text/plain": [
       "<matplotlib.figure.Figure at 0x10499b160>"
      ]
     },
     "metadata": {},
     "output_type": "display_data"
    }
   ],
   "source": [
    "gf=sns.factorplot(\" class of worker\", col=' income',hue=' sex',data=census_learn,kind='count')\n",
    "gf.set_xticklabels(rotation=90)"
   ]
  },
  {
   "cell_type": "markdown",
   "metadata": {},
   "source": [
    "** Below using the factor plot we are trying to see whether 'marital status' makes any difference to the income level. We notice it does. It is interesting to note that irrespective of marital status very few people earn more than 50000.Especially never married and people who are married with spouse present.**"
   ]
  },
  {
   "cell_type": "code",
   "execution_count": 30,
   "metadata": {
    "collapsed": false
   },
   "outputs": [
    {
     "data": {
      "text/plain": [
       "<seaborn.axisgrid.FacetGrid at 0x115c35b38>"
      ]
     },
     "execution_count": 30,
     "metadata": {},
     "output_type": "execute_result"
    },
    {
     "data": {
      "image/png": "[encoded data removed]",
      "text/plain": [
       "<matplotlib.figure.Figure at 0x115bd0588>"
      ]
     },
     "metadata": {},
     "output_type": "display_data"
    }
   ],
   "source": [
    "gf1=sns.factorplot(\" marital status\", col=' income',hue=' sex',data=census_learn,kind='count')\n",
    "gf1.set_xticklabels(rotation=90)"
   ]
  },
  {
   "cell_type": "markdown",
   "metadata": {},
   "source": [
    "**Now we are trying to see whether race makes any difference in income level among male and females. Again the same story. Especially among white and black men and women a lot of people are earning less than 50000. Very interesting to note that whites earning less than 50000 are a lot more than black. Also black male and female earning more than 50000 are very very few.**"
   ]
  },
  {
   "cell_type": "code",
   "execution_count": 31,
   "metadata": {
    "collapsed": false
   },
   "outputs": [
    {
     "data": {
      "text/plain": [
       "<seaborn.axisgrid.FacetGrid at 0x10499be10>"
      ]
     },
     "execution_count": 31,
     "metadata": {},
     "output_type": "execute_result"
    },
    {
     "data": {
      "image/png": "[encoded data removed]",
      "text/plain": [
       "<matplotlib.figure.Figure at 0x116b3e5c0>"
      ]
     },
     "metadata": {},
     "output_type": "display_data"
    }
   ],
   "source": [
    "gf2=sns.factorplot(\" race\", col=' income',hue=' sex',data=census_learn,kind='count')\n",
    "gf2.set_xticklabels(rotation=90)"
   ]
  },
  {
   "cell_type": "markdown",
   "metadata": {},
   "source": [
    "**Below we see that a lot of people in labor unions earn less than 50000.**"
   ]
  },
  {
   "cell_type": "code",
   "execution_count": 32,
   "metadata": {
    "collapsed": false
   },
   "outputs": [
    {
     "data": {
      "text/plain": [
       "<seaborn.axisgrid.FacetGrid at 0x11b24b3c8>"
      ]
     },
     "execution_count": 32,
     "metadata": {},
     "output_type": "execute_result"
    },
    {
     "data": {
      "image/png": "[encoded data removed]",
      "text/plain": [
       "<matplotlib.figure.Figure at 0x11565d7f0>"
      ]
     },
     "metadata": {},
     "output_type": "display_data"
    }
   ],
   "source": [
    "gf3=sns.factorplot(\" member of a labor union\", col=' income',hue=' sex',data=census_learn,kind='count')\n",
    "gf3.set_xticklabels(rotation=90)"
   ]
  },
  {
   "cell_type": "markdown",
   "metadata": {},
   "source": [
    "**Below is another graphical breakup in terms of household summary. We notice that more householders earns less than 50000 than any other category. A significant number of 'under 18 never married' and 'spouse of householder' earn less than 50000.**"
   ]
  },
  {
   "cell_type": "code",
   "execution_count": 33,
   "metadata": {
    "collapsed": false
   },
   "outputs": [
    {
     "data": {
      "text/plain": [
       "<seaborn.axisgrid.FacetGrid at 0x1164eaf98>"
      ]
     },
     "execution_count": 33,
     "metadata": {},
     "output_type": "execute_result"
    },
    {
     "data": {
      "image/png": "[encoded data removed]",
      "text/plain": [
       "<matplotlib.figure.Figure at 0x1297cf4a8>"
      ]
     },
     "metadata": {},
     "output_type": "display_data"
    }
   ],
   "source": [
    "gf4=sns.factorplot(\" detailed household summary in household\", col=' income',hue=' sex',data=census_learn,kind='count')\n",
    "gf4.set_xticklabels(rotation=90)"
   ]
  },
  {
   "cell_type": "markdown",
   "metadata": {},
   "source": [
    "**Below are similar graphical breakdowns in terms of citizenship and self employment.**"
   ]
  },
  {
   "cell_type": "code",
   "execution_count": 34,
   "metadata": {
    "collapsed": false
   },
   "outputs": [
    {
     "data": {
      "text/plain": [
       "<seaborn.axisgrid.FacetGrid at 0x11b28a9e8>"
      ]
     },
     "execution_count": 34,
     "metadata": {},
     "output_type": "execute_result"
    },
    {
     "data": {
      "image/png": "[encoded data removed]",
      "text/plain": [
       "<matplotlib.figure.Figure at 0x11b28aac8>"
      ]
     },
     "metadata": {},
     "output_type": "display_data"
    }
   ],
   "source": [
    "gf5=sns.factorplot(\" citizenship\", col=' income',hue=' sex',data=census_learn,kind='count')\n",
    "gf5.set_xticklabels(rotation=90)"
   ]
  },
  {
   "cell_type": "code",
   "execution_count": 35,
   "metadata": {
    "collapsed": false
   },
   "outputs": [
    {
     "data": {
      "image/png": "[encoded data removed]",
      "text/plain": [
       "<matplotlib.figure.Figure at 0x127211a20>"
      ]
     },
     "metadata": {},
     "output_type": "display_data"
    }
   ],
   "source": [
    "gf6=sns.factorplot(\" own business or self employed\", col=' income',hue=' sex',data=census_learn,kind='count')\n"
   ]
  },
  {
   "cell_type": "markdown",
   "metadata": {},
   "source": [
    "**similar analysis in terms of marital status and race with respect to business or self employment are given in the two graphs below.**"
   ]
  },
  {
   "cell_type": "code",
   "execution_count": 36,
   "metadata": {
    "collapsed": false
   },
   "outputs": [
    {
     "data": {
      "text/plain": [
       "<seaborn.axisgrid.FacetGrid at 0x1274e54a8>"
      ]
     },
     "execution_count": 36,
     "metadata": {},
     "output_type": "execute_result"
    },
    {
     "data": {
      "image/png": "[encoded data removed]",
      "text/plain": [
       "<matplotlib.figure.Figure at 0x1274e52b0>"
      ]
     },
     "metadata": {},
     "output_type": "display_data"
    }
   ],
   "source": [
    "gf7=sns.factorplot(\" marital status\", col=' income',hue=' own business or self employed',data=census_learn,kind='count')\n",
    "gf7.set_xticklabels(rotation=90)"
   ]
  },
  {
   "cell_type": "code",
   "execution_count": 37,
   "metadata": {
    "collapsed": false
   },
   "outputs": [
    {
     "data": {
      "text/plain": [
       "<seaborn.axisgrid.FacetGrid at 0x1169a1908>"
      ]
     },
     "execution_count": 37,
     "metadata": {},
     "output_type": "execute_result"
    },
    {
     "data": {
      "image/png": "[encoded data removed]",
      "text/plain": [
       "<matplotlib.figure.Figure at 0x1274f1748>"
      ]
     },
     "metadata": {},
     "output_type": "display_data"
    }
   ],
   "source": [
    "gf8=sns.factorplot(\" race\", col=' income',hue=' own business or self employed',data=census_learn,kind='count')\n",
    "gf8.set_xticklabels(rotation=90)"
   ]
  },
  {
   "cell_type": "code",
   "execution_count": 38,
   "metadata": {
    "collapsed": false
   },
   "outputs": [],
   "source": [
    "census_learn[' income']=pd.get_dummies(census_learn[' income'])\n",
    "census_test[' income']=pd.get_dummies(census_test[' income'])"
   ]
  },
  {
   "cell_type": "code",
   "execution_count": 39,
   "metadata": {
    "collapsed": false
   },
   "outputs": [
    {
     "data": {
      "text/html": [
       "<div>\n",
       "<table border=\"1\" class=\"dataframe\">\n",
       "  <thead>\n",
       "    <tr style=\"text-align: right;\">\n",
       "      <th></th>\n",
       "      <th>age</th>\n",
       "      <th>class of worker</th>\n",
       "      <th>industry code</th>\n",
       "      <th>occupation code</th>\n",
       "      <th>education</th>\n",
       "      <th>wage per hour</th>\n",
       "      <th>enrolled in edu inst last wk</th>\n",
       "      <th>marital status</th>\n",
       "      <th>major industry code</th>\n",
       "      <th>major occupation code</th>\n",
       "      <th>...</th>\n",
       "      <th>country of birth father</th>\n",
       "      <th>country of birth mother</th>\n",
       "      <th>country of birth self</th>\n",
       "      <th>citizenship</th>\n",
       "      <th>own business or self employed</th>\n",
       "      <th>fill inc questionnaire for veteran's admin</th>\n",
       "      <th>veterans benefits</th>\n",
       "      <th>weeks worked in year</th>\n",
       "      <th>year</th>\n",
       "      <th>income</th>\n",
       "    </tr>\n",
       "  </thead>\n",
       "  <tbody>\n",
       "    <tr>\n",
       "      <th>0</th>\n",
       "      <td>38</td>\n",
       "      <td>Private</td>\n",
       "      <td>6</td>\n",
       "      <td>36</td>\n",
       "      <td>1st 2nd 3rd or 4th grade</td>\n",
       "      <td>0</td>\n",
       "      <td>Not in universe</td>\n",
       "      <td>Married-civilian spouse present</td>\n",
       "      <td>Manufacturing-durable goods</td>\n",
       "      <td>Machine operators assmblrs &amp; inspctrs</td>\n",
       "      <td>...</td>\n",
       "      <td>Mexico</td>\n",
       "      <td>Mexico</td>\n",
       "      <td>Mexico</td>\n",
       "      <td>Foreign born- Not a citizen of U S</td>\n",
       "      <td>0</td>\n",
       "      <td>Not in universe</td>\n",
       "      <td>2</td>\n",
       "      <td>12</td>\n",
       "      <td>95</td>\n",
       "      <td>0.0</td>\n",
       "    </tr>\n",
       "    <tr>\n",
       "      <th>1</th>\n",
       "      <td>44</td>\n",
       "      <td>Self-employed-not incorporated</td>\n",
       "      <td>37</td>\n",
       "      <td>12</td>\n",
       "      <td>Associates degree-occup /vocational</td>\n",
       "      <td>0</td>\n",
       "      <td>Not in universe</td>\n",
       "      <td>Married-civilian spouse present</td>\n",
       "      <td>Business and repair services</td>\n",
       "      <td>Professional specialty</td>\n",
       "      <td>...</td>\n",
       "      <td>United-States</td>\n",
       "      <td>United-States</td>\n",
       "      <td>United-States</td>\n",
       "      <td>Native- Born in the United States</td>\n",
       "      <td>0</td>\n",
       "      <td>Not in universe</td>\n",
       "      <td>2</td>\n",
       "      <td>26</td>\n",
       "      <td>95</td>\n",
       "      <td>0.0</td>\n",
       "    </tr>\n",
       "    <tr>\n",
       "      <th>2</th>\n",
       "      <td>2</td>\n",
       "      <td>Not in universe</td>\n",
       "      <td>0</td>\n",
       "      <td>0</td>\n",
       "      <td>Children</td>\n",
       "      <td>0</td>\n",
       "      <td>Not in universe</td>\n",
       "      <td>Never married</td>\n",
       "      <td>Not in universe or children</td>\n",
       "      <td>Not in universe</td>\n",
       "      <td>...</td>\n",
       "      <td>United-States</td>\n",
       "      <td>United-States</td>\n",
       "      <td>United-States</td>\n",
       "      <td>Native- Born in the United States</td>\n",
       "      <td>0</td>\n",
       "      <td>Not in universe</td>\n",
       "      <td>0</td>\n",
       "      <td>0</td>\n",
       "      <td>95</td>\n",
       "      <td>0.0</td>\n",
       "    </tr>\n",
       "    <tr>\n",
       "      <th>3</th>\n",
       "      <td>35</td>\n",
       "      <td>Private</td>\n",
       "      <td>29</td>\n",
       "      <td>3</td>\n",
       "      <td>High school graduate</td>\n",
       "      <td>0</td>\n",
       "      <td>Not in universe</td>\n",
       "      <td>Divorced</td>\n",
       "      <td>Transportation</td>\n",
       "      <td>Executive admin and managerial</td>\n",
       "      <td>...</td>\n",
       "      <td>United-States</td>\n",
       "      <td>United-States</td>\n",
       "      <td>United-States</td>\n",
       "      <td>Native- Born in the United States</td>\n",
       "      <td>2</td>\n",
       "      <td>Not in universe</td>\n",
       "      <td>2</td>\n",
       "      <td>52</td>\n",
       "      <td>94</td>\n",
       "      <td>0.0</td>\n",
       "    </tr>\n",
       "    <tr>\n",
       "      <th>4</th>\n",
       "      <td>49</td>\n",
       "      <td>Private</td>\n",
       "      <td>4</td>\n",
       "      <td>34</td>\n",
       "      <td>High school graduate</td>\n",
       "      <td>0</td>\n",
       "      <td>Not in universe</td>\n",
       "      <td>Divorced</td>\n",
       "      <td>Construction</td>\n",
       "      <td>Precision production craft &amp; repair</td>\n",
       "      <td>...</td>\n",
       "      <td>United-States</td>\n",
       "      <td>United-States</td>\n",
       "      <td>United-States</td>\n",
       "      <td>Native- Born in the United States</td>\n",
       "      <td>0</td>\n",
       "      <td>Not in universe</td>\n",
       "      <td>2</td>\n",
       "      <td>50</td>\n",
       "      <td>95</td>\n",
       "      <td>0.0</td>\n",
       "    </tr>\n",
       "    <tr>\n",
       "      <th>5</th>\n",
       "      <td>13</td>\n",
       "      <td>Not in universe</td>\n",
       "      <td>0</td>\n",
       "      <td>0</td>\n",
       "      <td>Children</td>\n",
       "      <td>0</td>\n",
       "      <td>Not in universe</td>\n",
       "      <td>Never married</td>\n",
       "      <td>Not in universe or children</td>\n",
       "      <td>Not in universe</td>\n",
       "      <td>...</td>\n",
       "      <td>Germany</td>\n",
       "      <td>United-States</td>\n",
       "      <td>United-States</td>\n",
       "      <td>Native- Born in the United States</td>\n",
       "      <td>0</td>\n",
       "      <td>Not in universe</td>\n",
       "      <td>0</td>\n",
       "      <td>0</td>\n",
       "      <td>94</td>\n",
       "      <td>0.0</td>\n",
       "    </tr>\n",
       "    <tr>\n",
       "      <th>6</th>\n",
       "      <td>1</td>\n",
       "      <td>Not in universe</td>\n",
       "      <td>0</td>\n",
       "      <td>0</td>\n",
       "      <td>Children</td>\n",
       "      <td>0</td>\n",
       "      <td>Not in universe</td>\n",
       "      <td>Never married</td>\n",
       "      <td>Not in universe or children</td>\n",
       "      <td>Not in universe</td>\n",
       "      <td>...</td>\n",
       "      <td>Mexico</td>\n",
       "      <td>United-States</td>\n",
       "      <td>United-States</td>\n",
       "      <td>Native- Born in the United States</td>\n",
       "      <td>0</td>\n",
       "      <td>Not in universe</td>\n",
       "      <td>0</td>\n",
       "      <td>0</td>\n",
       "      <td>94</td>\n",
       "      <td>0.0</td>\n",
       "    </tr>\n",
       "    <tr>\n",
       "      <th>7</th>\n",
       "      <td>61</td>\n",
       "      <td>Not in universe</td>\n",
       "      <td>0</td>\n",
       "      <td>0</td>\n",
       "      <td>High school graduate</td>\n",
       "      <td>0</td>\n",
       "      <td>Not in universe</td>\n",
       "      <td>Married-civilian spouse present</td>\n",
       "      <td>Not in universe or children</td>\n",
       "      <td>Not in universe</td>\n",
       "      <td>...</td>\n",
       "      <td>United-States</td>\n",
       "      <td>United-States</td>\n",
       "      <td>United-States</td>\n",
       "      <td>Native- Born in the United States</td>\n",
       "      <td>0</td>\n",
       "      <td>Not in universe</td>\n",
       "      <td>2</td>\n",
       "      <td>0</td>\n",
       "      <td>95</td>\n",
       "      <td>0.0</td>\n",
       "    </tr>\n",
       "    <tr>\n",
       "      <th>8</th>\n",
       "      <td>38</td>\n",
       "      <td>Private</td>\n",
       "      <td>45</td>\n",
       "      <td>12</td>\n",
       "      <td>Masters degree(MA MS MEng MEd MSW MBA)</td>\n",
       "      <td>0</td>\n",
       "      <td>Not in universe</td>\n",
       "      <td>Married-civilian spouse present</td>\n",
       "      <td>Other professional services</td>\n",
       "      <td>Professional specialty</td>\n",
       "      <td>...</td>\n",
       "      <td>United-States</td>\n",
       "      <td>United-States</td>\n",
       "      <td>United-States</td>\n",
       "      <td>Native- Born in the United States</td>\n",
       "      <td>0</td>\n",
       "      <td>Not in universe</td>\n",
       "      <td>2</td>\n",
       "      <td>52</td>\n",
       "      <td>94</td>\n",
       "      <td>0.0</td>\n",
       "    </tr>\n",
       "    <tr>\n",
       "      <th>9</th>\n",
       "      <td>7</td>\n",
       "      <td>Not in universe</td>\n",
       "      <td>0</td>\n",
       "      <td>0</td>\n",
       "      <td>Children</td>\n",
       "      <td>0</td>\n",
       "      <td>Not in universe</td>\n",
       "      <td>Never married</td>\n",
       "      <td>Not in universe or children</td>\n",
       "      <td>Not in universe</td>\n",
       "      <td>...</td>\n",
       "      <td>United-States</td>\n",
       "      <td>United-States</td>\n",
       "      <td>United-States</td>\n",
       "      <td>Native- Born in the United States</td>\n",
       "      <td>0</td>\n",
       "      <td>Not in universe</td>\n",
       "      <td>0</td>\n",
       "      <td>0</td>\n",
       "      <td>94</td>\n",
       "      <td>0.0</td>\n",
       "    </tr>\n",
       "    <tr>\n",
       "      <th>10</th>\n",
       "      <td>30</td>\n",
       "      <td>Private</td>\n",
       "      <td>30</td>\n",
       "      <td>26</td>\n",
       "      <td>Bachelors degree(BA AB BS)</td>\n",
       "      <td>0</td>\n",
       "      <td>Not in universe</td>\n",
       "      <td>Married-civilian spouse present</td>\n",
       "      <td>Communications</td>\n",
       "      <td>Adm support including clerical</td>\n",
       "      <td>...</td>\n",
       "      <td>United-States</td>\n",
       "      <td>United-States</td>\n",
       "      <td>United-States</td>\n",
       "      <td>Native- Born in the United States</td>\n",
       "      <td>0</td>\n",
       "      <td>Not in universe</td>\n",
       "      <td>2</td>\n",
       "      <td>52</td>\n",
       "      <td>95</td>\n",
       "      <td>0.0</td>\n",
       "    </tr>\n",
       "    <tr>\n",
       "      <th>11</th>\n",
       "      <td>85</td>\n",
       "      <td>Not in universe</td>\n",
       "      <td>0</td>\n",
       "      <td>0</td>\n",
       "      <td>10th grade</td>\n",
       "      <td>0</td>\n",
       "      <td>Not in universe</td>\n",
       "      <td>Married-civilian spouse present</td>\n",
       "      <td>Not in universe or children</td>\n",
       "      <td>Not in universe</td>\n",
       "      <td>...</td>\n",
       "      <td>United-States</td>\n",
       "      <td>United-States</td>\n",
       "      <td>United-States</td>\n",
       "      <td>Native- Born in the United States</td>\n",
       "      <td>0</td>\n",
       "      <td>Not in universe</td>\n",
       "      <td>2</td>\n",
       "      <td>0</td>\n",
       "      <td>95</td>\n",
       "      <td>0.0</td>\n",
       "    </tr>\n",
       "    <tr>\n",
       "      <th>12</th>\n",
       "      <td>33</td>\n",
       "      <td>Private</td>\n",
       "      <td>36</td>\n",
       "      <td>27</td>\n",
       "      <td>High school graduate</td>\n",
       "      <td>0</td>\n",
       "      <td>Not in universe</td>\n",
       "      <td>Married-civilian spouse present</td>\n",
       "      <td>Private household services</td>\n",
       "      <td>Private household services</td>\n",
       "      <td>...</td>\n",
       "      <td>Trinadad&amp;Tobago</td>\n",
       "      <td>Trinadad&amp;Tobago</td>\n",
       "      <td>Trinadad&amp;Tobago</td>\n",
       "      <td>Foreign born- Not a citizen of U S</td>\n",
       "      <td>0</td>\n",
       "      <td>Not in universe</td>\n",
       "      <td>2</td>\n",
       "      <td>30</td>\n",
       "      <td>94</td>\n",
       "      <td>0.0</td>\n",
       "    </tr>\n",
       "    <tr>\n",
       "      <th>13</th>\n",
       "      <td>26</td>\n",
       "      <td>Private</td>\n",
       "      <td>33</td>\n",
       "      <td>29</td>\n",
       "      <td>Some college but no degree</td>\n",
       "      <td>425</td>\n",
       "      <td>Not in universe</td>\n",
       "      <td>Never married</td>\n",
       "      <td>Retail trade</td>\n",
       "      <td>Other service</td>\n",
       "      <td>...</td>\n",
       "      <td>United-States</td>\n",
       "      <td>United-States</td>\n",
       "      <td>United-States</td>\n",
       "      <td>Native- Born in the United States</td>\n",
       "      <td>0</td>\n",
       "      <td>Not in universe</td>\n",
       "      <td>2</td>\n",
       "      <td>17</td>\n",
       "      <td>94</td>\n",
       "      <td>0.0</td>\n",
       "    </tr>\n",
       "    <tr>\n",
       "      <th>14</th>\n",
       "      <td>46</td>\n",
       "      <td>Private</td>\n",
       "      <td>37</td>\n",
       "      <td>21</td>\n",
       "      <td>High school graduate</td>\n",
       "      <td>0</td>\n",
       "      <td>Not in universe</td>\n",
       "      <td>Married-civilian spouse present</td>\n",
       "      <td>Business and repair services</td>\n",
       "      <td>Adm support including clerical</td>\n",
       "      <td>...</td>\n",
       "      <td>United-States</td>\n",
       "      <td>United-States</td>\n",
       "      <td>United-States</td>\n",
       "      <td>Native- Born in the United States</td>\n",
       "      <td>0</td>\n",
       "      <td>Not in universe</td>\n",
       "      <td>2</td>\n",
       "      <td>52</td>\n",
       "      <td>95</td>\n",
       "      <td>0.0</td>\n",
       "    </tr>\n",
       "    <tr>\n",
       "      <th>15</th>\n",
       "      <td>19</td>\n",
       "      <td>Private</td>\n",
       "      <td>33</td>\n",
       "      <td>26</td>\n",
       "      <td>Some college but no degree</td>\n",
       "      <td>0</td>\n",
       "      <td>College or university</td>\n",
       "      <td>Never married</td>\n",
       "      <td>Retail trade</td>\n",
       "      <td>Adm support including clerical</td>\n",
       "      <td>...</td>\n",
       "      <td>United-States</td>\n",
       "      <td>United-States</td>\n",
       "      <td>United-States</td>\n",
       "      <td>Native- Born in the United States</td>\n",
       "      <td>0</td>\n",
       "      <td>Not in universe</td>\n",
       "      <td>2</td>\n",
       "      <td>52</td>\n",
       "      <td>95</td>\n",
       "      <td>0.0</td>\n",
       "    </tr>\n",
       "    <tr>\n",
       "      <th>16</th>\n",
       "      <td>11</td>\n",
       "      <td>Not in universe</td>\n",
       "      <td>0</td>\n",
       "      <td>0</td>\n",
       "      <td>Children</td>\n",
       "      <td>0</td>\n",
       "      <td>Not in universe</td>\n",
       "      <td>Never married</td>\n",
       "      <td>Not in universe or children</td>\n",
       "      <td>Not in universe</td>\n",
       "      <td>...</td>\n",
       "      <td>Mexico</td>\n",
       "      <td>United-States</td>\n",
       "      <td>United-States</td>\n",
       "      <td>Native- Born in the United States</td>\n",
       "      <td>0</td>\n",
       "      <td>Not in universe</td>\n",
       "      <td>0</td>\n",
       "      <td>0</td>\n",
       "      <td>95</td>\n",
       "      <td>0.0</td>\n",
       "    </tr>\n",
       "    <tr>\n",
       "      <th>17</th>\n",
       "      <td>23</td>\n",
       "      <td>Private</td>\n",
       "      <td>45</td>\n",
       "      <td>26</td>\n",
       "      <td>Bachelors degree(BA AB BS)</td>\n",
       "      <td>0</td>\n",
       "      <td>College or university</td>\n",
       "      <td>Married-civilian spouse present</td>\n",
       "      <td>Other professional services</td>\n",
       "      <td>Adm support including clerical</td>\n",
       "      <td>...</td>\n",
       "      <td>United-States</td>\n",
       "      <td>United-States</td>\n",
       "      <td>United-States</td>\n",
       "      <td>Native- Born in the United States</td>\n",
       "      <td>0</td>\n",
       "      <td>Not in universe</td>\n",
       "      <td>2</td>\n",
       "      <td>52</td>\n",
       "      <td>95</td>\n",
       "      <td>0.0</td>\n",
       "    </tr>\n",
       "    <tr>\n",
       "      <th>18</th>\n",
       "      <td>27</td>\n",
       "      <td>Private</td>\n",
       "      <td>37</td>\n",
       "      <td>31</td>\n",
       "      <td>High school graduate</td>\n",
       "      <td>0</td>\n",
       "      <td>Not in universe</td>\n",
       "      <td>Married-civilian spouse present</td>\n",
       "      <td>Business and repair services</td>\n",
       "      <td>Other service</td>\n",
       "      <td>...</td>\n",
       "      <td>?</td>\n",
       "      <td>?</td>\n",
       "      <td>?</td>\n",
       "      <td>Foreign born- Not a citizen of U S</td>\n",
       "      <td>1</td>\n",
       "      <td>Not in universe</td>\n",
       "      <td>2</td>\n",
       "      <td>50</td>\n",
       "      <td>94</td>\n",
       "      <td>0.0</td>\n",
       "    </tr>\n",
       "    <tr>\n",
       "      <th>19</th>\n",
       "      <td>35</td>\n",
       "      <td>Self-employed-not incorporated</td>\n",
       "      <td>4</td>\n",
       "      <td>2</td>\n",
       "      <td>High school graduate</td>\n",
       "      <td>0</td>\n",
       "      <td>Not in universe</td>\n",
       "      <td>Divorced</td>\n",
       "      <td>Construction</td>\n",
       "      <td>Executive admin and managerial</td>\n",
       "      <td>...</td>\n",
       "      <td>United-States</td>\n",
       "      <td>United-States</td>\n",
       "      <td>United-States</td>\n",
       "      <td>Native- Born in the United States</td>\n",
       "      <td>0</td>\n",
       "      <td>Not in universe</td>\n",
       "      <td>2</td>\n",
       "      <td>52</td>\n",
       "      <td>95</td>\n",
       "      <td>1.0</td>\n",
       "    </tr>\n",
       "    <tr>\n",
       "      <th>20</th>\n",
       "      <td>8</td>\n",
       "      <td>Not in universe</td>\n",
       "      <td>0</td>\n",
       "      <td>0</td>\n",
       "      <td>Children</td>\n",
       "      <td>0</td>\n",
       "      <td>Not in universe</td>\n",
       "      <td>Never married</td>\n",
       "      <td>Not in universe or children</td>\n",
       "      <td>Not in universe</td>\n",
       "      <td>...</td>\n",
       "      <td>United-States</td>\n",
       "      <td>United-States</td>\n",
       "      <td>United-States</td>\n",
       "      <td>Native- Born in the United States</td>\n",
       "      <td>0</td>\n",
       "      <td>Not in universe</td>\n",
       "      <td>0</td>\n",
       "      <td>0</td>\n",
       "      <td>94</td>\n",
       "      <td>0.0</td>\n",
       "    </tr>\n",
       "    <tr>\n",
       "      <th>21</th>\n",
       "      <td>29</td>\n",
       "      <td>Not in universe</td>\n",
       "      <td>0</td>\n",
       "      <td>0</td>\n",
       "      <td>High school graduate</td>\n",
       "      <td>0</td>\n",
       "      <td>Not in universe</td>\n",
       "      <td>Married-civilian spouse present</td>\n",
       "      <td>Not in universe or children</td>\n",
       "      <td>Not in universe</td>\n",
       "      <td>...</td>\n",
       "      <td>United-States</td>\n",
       "      <td>United-States</td>\n",
       "      <td>United-States</td>\n",
       "      <td>Native- Born in the United States</td>\n",
       "      <td>0</td>\n",
       "      <td>Not in universe</td>\n",
       "      <td>2</td>\n",
       "      <td>0</td>\n",
       "      <td>94</td>\n",
       "      <td>0.0</td>\n",
       "    </tr>\n",
       "  </tbody>\n",
       "</table>\n",
       "<p>22 rows × 42 columns</p>\n",
       "</div>"
      ],
      "text/plain": [
       "    age                  class of worker   industry code   occupation code  \\\n",
       "0    38                          Private               6                36   \n",
       "1    44   Self-employed-not incorporated              37                12   \n",
       "2     2                  Not in universe               0                 0   \n",
       "3    35                          Private              29                 3   \n",
       "4    49                          Private               4                34   \n",
       "5    13                  Not in universe               0                 0   \n",
       "6     1                  Not in universe               0                 0   \n",
       "7    61                  Not in universe               0                 0   \n",
       "8    38                          Private              45                12   \n",
       "9     7                  Not in universe               0                 0   \n",
       "10   30                          Private              30                26   \n",
       "11   85                  Not in universe               0                 0   \n",
       "12   33                          Private              36                27   \n",
       "13   26                          Private              33                29   \n",
       "14   46                          Private              37                21   \n",
       "15   19                          Private              33                26   \n",
       "16   11                  Not in universe               0                 0   \n",
       "17   23                          Private              45                26   \n",
       "18   27                          Private              37                31   \n",
       "19   35   Self-employed-not incorporated               4                 2   \n",
       "20    8                  Not in universe               0                 0   \n",
       "21   29                  Not in universe               0                 0   \n",
       "\n",
       "                                  education   wage per hour  \\\n",
       "0                  1st 2nd 3rd or 4th grade               0   \n",
       "1       Associates degree-occup /vocational               0   \n",
       "2                                  Children               0   \n",
       "3                      High school graduate               0   \n",
       "4                      High school graduate               0   \n",
       "5                                  Children               0   \n",
       "6                                  Children               0   \n",
       "7                      High school graduate               0   \n",
       "8    Masters degree(MA MS MEng MEd MSW MBA)               0   \n",
       "9                                  Children               0   \n",
       "10               Bachelors degree(BA AB BS)               0   \n",
       "11                               10th grade               0   \n",
       "12                     High school graduate               0   \n",
       "13               Some college but no degree             425   \n",
       "14                     High school graduate               0   \n",
       "15               Some college but no degree               0   \n",
       "16                                 Children               0   \n",
       "17               Bachelors degree(BA AB BS)               0   \n",
       "18                     High school graduate               0   \n",
       "19                     High school graduate               0   \n",
       "20                                 Children               0   \n",
       "21                     High school graduate               0   \n",
       "\n",
       "    enrolled in edu inst last wk                    marital status  \\\n",
       "0                Not in universe   Married-civilian spouse present   \n",
       "1                Not in universe   Married-civilian spouse present   \n",
       "2                Not in universe                     Never married   \n",
       "3                Not in universe                          Divorced   \n",
       "4                Not in universe                          Divorced   \n",
       "5                Not in universe                     Never married   \n",
       "6                Not in universe                     Never married   \n",
       "7                Not in universe   Married-civilian spouse present   \n",
       "8                Not in universe   Married-civilian spouse present   \n",
       "9                Not in universe                     Never married   \n",
       "10               Not in universe   Married-civilian spouse present   \n",
       "11               Not in universe   Married-civilian spouse present   \n",
       "12               Not in universe   Married-civilian spouse present   \n",
       "13               Not in universe                     Never married   \n",
       "14               Not in universe   Married-civilian spouse present   \n",
       "15         College or university                     Never married   \n",
       "16               Not in universe                     Never married   \n",
       "17         College or university   Married-civilian spouse present   \n",
       "18               Not in universe   Married-civilian spouse present   \n",
       "19               Not in universe                          Divorced   \n",
       "20               Not in universe                     Never married   \n",
       "21               Not in universe   Married-civilian spouse present   \n",
       "\n",
       "              major industry code                   major occupation code  \\\n",
       "0     Manufacturing-durable goods   Machine operators assmblrs & inspctrs   \n",
       "1    Business and repair services                  Professional specialty   \n",
       "2     Not in universe or children                         Not in universe   \n",
       "3                  Transportation          Executive admin and managerial   \n",
       "4                    Construction     Precision production craft & repair   \n",
       "5     Not in universe or children                         Not in universe   \n",
       "6     Not in universe or children                         Not in universe   \n",
       "7     Not in universe or children                         Not in universe   \n",
       "8     Other professional services                  Professional specialty   \n",
       "9     Not in universe or children                         Not in universe   \n",
       "10                 Communications          Adm support including clerical   \n",
       "11    Not in universe or children                         Not in universe   \n",
       "12     Private household services              Private household services   \n",
       "13                   Retail trade                           Other service   \n",
       "14   Business and repair services          Adm support including clerical   \n",
       "15                   Retail trade          Adm support including clerical   \n",
       "16    Not in universe or children                         Not in universe   \n",
       "17    Other professional services          Adm support including clerical   \n",
       "18   Business and repair services                           Other service   \n",
       "19                   Construction          Executive admin and managerial   \n",
       "20    Not in universe or children                         Not in universe   \n",
       "21    Not in universe or children                         Not in universe   \n",
       "\n",
       "     ...    country of birth father  country of birth mother  \\\n",
       "0    ...                     Mexico                   Mexico   \n",
       "1    ...              United-States            United-States   \n",
       "2    ...              United-States            United-States   \n",
       "3    ...              United-States            United-States   \n",
       "4    ...              United-States            United-States   \n",
       "5    ...                    Germany            United-States   \n",
       "6    ...                     Mexico            United-States   \n",
       "7    ...              United-States            United-States   \n",
       "8    ...              United-States            United-States   \n",
       "9    ...              United-States            United-States   \n",
       "10   ...              United-States            United-States   \n",
       "11   ...              United-States            United-States   \n",
       "12   ...            Trinadad&Tobago          Trinadad&Tobago   \n",
       "13   ...              United-States            United-States   \n",
       "14   ...              United-States            United-States   \n",
       "15   ...              United-States            United-States   \n",
       "16   ...                     Mexico            United-States   \n",
       "17   ...              United-States            United-States   \n",
       "18   ...                          ?                        ?   \n",
       "19   ...              United-States            United-States   \n",
       "20   ...              United-States            United-States   \n",
       "21   ...              United-States            United-States   \n",
       "\n",
       "    country of birth self                           citizenship  \\\n",
       "0                  Mexico   Foreign born- Not a citizen of U S    \n",
       "1           United-States     Native- Born in the United States   \n",
       "2           United-States     Native- Born in the United States   \n",
       "3           United-States     Native- Born in the United States   \n",
       "4           United-States     Native- Born in the United States   \n",
       "5           United-States     Native- Born in the United States   \n",
       "6           United-States     Native- Born in the United States   \n",
       "7           United-States     Native- Born in the United States   \n",
       "8           United-States     Native- Born in the United States   \n",
       "9           United-States     Native- Born in the United States   \n",
       "10          United-States     Native- Born in the United States   \n",
       "11          United-States     Native- Born in the United States   \n",
       "12        Trinadad&Tobago   Foreign born- Not a citizen of U S    \n",
       "13          United-States     Native- Born in the United States   \n",
       "14          United-States     Native- Born in the United States   \n",
       "15          United-States     Native- Born in the United States   \n",
       "16          United-States     Native- Born in the United States   \n",
       "17          United-States     Native- Born in the United States   \n",
       "18                      ?   Foreign born- Not a citizen of U S    \n",
       "19          United-States     Native- Born in the United States   \n",
       "20          United-States     Native- Born in the United States   \n",
       "21          United-States     Native- Born in the United States   \n",
       "\n",
       "    own business or self employed  fill inc questionnaire for veteran's admin  \\\n",
       "0                               0                             Not in universe   \n",
       "1                               0                             Not in universe   \n",
       "2                               0                             Not in universe   \n",
       "3                               2                             Not in universe   \n",
       "4                               0                             Not in universe   \n",
       "5                               0                             Not in universe   \n",
       "6                               0                             Not in universe   \n",
       "7                               0                             Not in universe   \n",
       "8                               0                             Not in universe   \n",
       "9                               0                             Not in universe   \n",
       "10                              0                             Not in universe   \n",
       "11                              0                             Not in universe   \n",
       "12                              0                             Not in universe   \n",
       "13                              0                             Not in universe   \n",
       "14                              0                             Not in universe   \n",
       "15                              0                             Not in universe   \n",
       "16                              0                             Not in universe   \n",
       "17                              0                             Not in universe   \n",
       "18                              1                             Not in universe   \n",
       "19                              0                             Not in universe   \n",
       "20                              0                             Not in universe   \n",
       "21                              0                             Not in universe   \n",
       "\n",
       "     veterans benefits   weeks worked in year   year  income  \n",
       "0                    2                     12     95     0.0  \n",
       "1                    2                     26     95     0.0  \n",
       "2                    0                      0     95     0.0  \n",
       "3                    2                     52     94     0.0  \n",
       "4                    2                     50     95     0.0  \n",
       "5                    0                      0     94     0.0  \n",
       "6                    0                      0     94     0.0  \n",
       "7                    2                      0     95     0.0  \n",
       "8                    2                     52     94     0.0  \n",
       "9                    0                      0     94     0.0  \n",
       "10                   2                     52     95     0.0  \n",
       "11                   2                      0     95     0.0  \n",
       "12                   2                     30     94     0.0  \n",
       "13                   2                     17     94     0.0  \n",
       "14                   2                     52     95     0.0  \n",
       "15                   2                     52     95     0.0  \n",
       "16                   0                      0     95     0.0  \n",
       "17                   2                     52     95     0.0  \n",
       "18                   2                     50     94     0.0  \n",
       "19                   2                     52     95     1.0  \n",
       "20                   0                      0     94     0.0  \n",
       "21                   2                      0     94     0.0  \n",
       "\n",
       "[22 rows x 42 columns]"
      ]
     },
     "execution_count": 39,
     "metadata": {},
     "output_type": "execute_result"
    }
   ],
   "source": [
    "census_test.head(22)"
   ]
  },
  {
   "cell_type": "markdown",
   "metadata": {},
   "source": [
    "** Below we are converting all ? to NaN.**"
   ]
  },
  {
   "cell_type": "code",
   "execution_count": 40,
   "metadata": {
    "collapsed": false
   },
   "outputs": [],
   "source": [
    "\n",
    "census_learn = census_learn.replace(' ?', np.nan)\n"
   ]
  },
  {
   "cell_type": "markdown",
   "metadata": {},
   "source": [
    "**Below we get the number of missing values in every category of census_learn.**"
   ]
  },
  {
   "cell_type": "code",
   "execution_count": 41,
   "metadata": {
    "collapsed": false
   },
   "outputs": [
    {
     "data": {
      "text/plain": [
       "age                                                0\n",
       " class of worker                                   0\n",
       " industry code                                     0\n",
       " occupation code                                   0\n",
       " education                                         0\n",
       " wage per hour                                     0\n",
       " enrolled in edu inst last wk                      0\n",
       " marital status                                    0\n",
       " major industry code                               0\n",
       " major occupation code                             0\n",
       " race                                              0\n",
       " hispanic Origin                                   0\n",
       " sex                                               0\n",
       " member of a labor union                           0\n",
       " reason for unemployment                           0\n",
       " full or part time employment stat                 0\n",
       " capital gains                                     0\n",
       " capital losses                                    0\n",
       " divdends from stocks                              0\n",
       " tax filer status                                  0\n",
       " region of previous residence                      0\n",
       " state of previous residence                     708\n",
       " detailed household and family stat                0\n",
       " detailed household summary in household           0\n",
       " instance weight                                   0\n",
       " migration code-change in msa                  99696\n",
       " migration code-change in reg                  99696\n",
       " migration code-move within reg                99696\n",
       " live in this house 1 year ago                     0\n",
       " migration prev res in sunbelt                 99696\n",
       " num persons worked for employer                   0\n",
       " family members under 18                           0\n",
       " country of birth father                        6713\n",
       " country of birth mother                        6119\n",
       " country of birth self                          3393\n",
       " citizenship                                       0\n",
       " own business or self employed                     0\n",
       " fill inc questionnaire for veteran's admin        0\n",
       " veterans benefits                                 0\n",
       " weeks worked in year                              0\n",
       " year                                              0\n",
       " income                                            0\n",
       "dtype: int64"
      ]
     },
     "execution_count": 41,
     "metadata": {},
     "output_type": "execute_result"
    }
   ],
   "source": [
    "census_learn.isnull().sum()"
   ]
  },
  {
   "cell_type": "markdown",
   "metadata": {},
   "source": [
    "**Similarly for census_test.**"
   ]
  },
  {
   "cell_type": "code",
   "execution_count": 42,
   "metadata": {
    "collapsed": true
   },
   "outputs": [],
   "source": [
    "census_test=census_test.replace(' ?', np.nan)"
   ]
  },
  {
   "cell_type": "code",
   "execution_count": 43,
   "metadata": {
    "collapsed": false
   },
   "outputs": [
    {
     "data": {
      "text/plain": [
       "age                                                0\n",
       " class of worker                                   0\n",
       " industry code                                     0\n",
       " occupation code                                   0\n",
       " education                                         0\n",
       " wage per hour                                     0\n",
       " enrolled in edu inst last wk                      0\n",
       " marital status                                    0\n",
       " major industry code                               0\n",
       " major occupation code                             0\n",
       " race                                              0\n",
       " hispanic Origin                                   0\n",
       " sex                                               0\n",
       " member of a labor union                           0\n",
       " reason for unemployment                           0\n",
       " full or part time employment stat                 0\n",
       " capital gains                                     0\n",
       " capital losses                                    0\n",
       " divdends from stocks                              0\n",
       " tax filer status                                  0\n",
       " region of previous residence                      0\n",
       " state of previous residence                     330\n",
       " detailed household and family stat                0\n",
       " detailed household summary in household           0\n",
       " instance weight                                   0\n",
       " migration code-change in msa                  49946\n",
       " migration code-change in reg                  49946\n",
       " migration code-move within reg                49946\n",
       " live in this house 1 year ago                     0\n",
       " migration prev res in sunbelt                 49946\n",
       " num persons worked for employer                   0\n",
       " family members under 18                           0\n",
       " country of birth father                        3429\n",
       " country of birth mother                        3072\n",
       " country of birth self                          1764\n",
       " citizenship                                       0\n",
       " own business or self employed                     0\n",
       " fill inc questionnaire for veteran's admin        0\n",
       " veterans benefits                                 0\n",
       " weeks worked in year                              0\n",
       " year                                              0\n",
       " income                                            0\n",
       "dtype: int64"
      ]
     },
     "execution_count": 43,
     "metadata": {},
     "output_type": "execute_result"
    }
   ],
   "source": [
    "census_test.isnull().sum()"
   ]
  },
  {
   "cell_type": "markdown",
   "metadata": {},
   "source": [
    "** We are removing the row which is not present in census_test. How did I get it. I cheated a little. A few steps below I found that the number of features in training data and testing data are not same. I found out where the difference was and hence the step below. I don't think Deletion of this row creates a major problem.**"
   ]
  },
  {
   "cell_type": "code",
   "execution_count": 44,
   "metadata": {
    "collapsed": true
   },
   "outputs": [],
   "source": [
    "census_learn = census_learn[census_learn[' detailed household and family stat']!= ' Grandchild <18 ever marr not in subfamily']"
   ]
  },
  {
   "cell_type": "markdown",
   "metadata": {},
   "source": [
    "** Below we are creating the training set and testing set. We choose all the columns except the last one as feature columns. The target column is the income level column.**"
   ]
  },
  {
   "cell_type": "code",
   "execution_count": 45,
   "metadata": {
    "collapsed": false
   },
   "outputs": [
    {
     "name": "stdout",
     "output_type": "stream",
     "text": [
      "Feature columns:\n",
      "['age', ' class of worker', ' industry code', ' occupation code', ' education', ' wage per hour', ' enrolled in edu inst last wk', ' marital status', ' major industry code', ' major occupation code', ' race', ' hispanic Origin', ' sex', ' member of a labor union', ' reason for unemployment', ' full or part time employment stat', ' capital gains', ' capital losses', ' divdends from stocks', ' tax filer status', ' region of previous residence', ' state of previous residence', ' detailed household and family stat', ' detailed household summary in household', ' instance weight', ' migration code-change in msa', ' migration code-change in reg', ' migration code-move within reg', ' live in this house 1 year ago', ' migration prev res in sunbelt', ' num persons worked for employer', ' family members under 18', ' country of birth father', ' country of birth mother', ' country of birth self', ' citizenship', ' own business or self employed', \" fill inc questionnaire for veteran's admin\", ' veterans benefits', ' weeks worked in year', ' year']\n",
      "\n",
      "Target column:  income\n"
     ]
    }
   ],
   "source": [
    "# Extract feature columns\n",
    "feature_cols_learn = list(census_learn.columns[:-1])\n",
    "feature_cols_test = list(census_test.columns[:-1])\n",
    "\n",
    "# Extract target column 'income'\n",
    "target_col_l = census_learn.columns[-1] \n",
    "target_col_t = census_test.columns[-1]\n",
    "\n",
    "# Show the list of columns\n",
    "print(\"Feature columns:\\n{}\".format(feature_cols_learn))\n",
    "print(\"\\nTarget column: {}\".format(target_col_l))\n",
    "\n",
    "\n",
    "X_train = census_learn[feature_cols_learn]\n",
    "y_train = census_learn[target_col_l]\n",
    "\n",
    "X_test = census_test[feature_cols_test]\n",
    "y_test = census_test[target_col_t]\n"
   ]
  },
  {
   "cell_type": "markdown",
   "metadata": {},
   "source": [
    "**The function below accomplises a very important thing. It converts the non-numeric objects into dummy numeric variables.**"
   ]
  },
  {
   "cell_type": "code",
   "execution_count": 46,
   "metadata": {
    "collapsed": false
   },
   "outputs": [],
   "source": [
    "def preprocess_features(X):\n",
    "    ''' Preprocesses the conversion data and converts non-numeric variables into\n",
    "        dummy variables.  '''\n",
    "    \n",
    "    # Initialize new output DataFrame\n",
    "    output = pd.DataFrame(index = X.index)\n",
    "\n",
    "    # Investigate each feature column for the data\n",
    "    for col, col_data in X.iteritems():\n",
    "        \n",
    "\n",
    "        # If data type is categorical, convert to dummy variables\n",
    "        if col_data.dtype == object:\n",
    "            col_data = pd.get_dummies(col_data, prefix = col)  \n",
    "        \n",
    "        # Collect the revised columns\n",
    "        output = output.join(col_data)\n",
    "    \n",
    "    return output\n",
    "\n",
    "X_train = preprocess_features(X_train)\n",
    "\n",
    "X_test = preprocess_features(X_test)\n"
   ]
  },
  {
   "cell_type": "markdown",
   "metadata": {},
   "source": [
    "**As an aside this is the place where I found what to delete from census_learn.**"
   ]
  },
  {
   "cell_type": "code",
   "execution_count": 47,
   "metadata": {
    "collapsed": false,
    "scrolled": false
   },
   "outputs": [],
   "source": [
    "list1=list(X_train.columns)\n",
    "list2=list(X_test.columns)"
   ]
  },
  {
   "cell_type": "markdown",
   "metadata": {},
   "source": [
    "next( (idx, x, y) for idx, (x, y) in enumerate(zip(list1, list2)) if x!=y )"
   ]
  },
  {
   "cell_type": "markdown",
   "metadata": {},
   "source": [
    "*** This 'list1[195]' command told me what to remove from census_learn.***"
   ]
  },
  {
   "cell_type": "markdown",
   "metadata": {},
   "source": [
    "**Below we are creating functions which calculates f1_score and accuracy_score  for the models we will choose.**"
   ]
  },
  {
   "cell_type": "code",
   "execution_count": 49,
   "metadata": {
    "collapsed": true
   },
   "outputs": [],
   "source": [
    "from sklearn.metrics import accuracy_score\n",
    "def predict_labels_accuracy(clf, features, target):\n",
    "    ''' Makes predictions using a fit classifier based on accuracy score. '''\n",
    "    \n",
    "    y_pred = clf.predict(features)\n",
    "     \n",
    "    return accuracy_score(target.values, y_pred)"
   ]
  },
  {
   "cell_type": "code",
   "execution_count": 73,
   "metadata": {
    "collapsed": true
   },
   "outputs": [],
   "source": [
    "from sklearn.metrics import f1_score\n",
    "def predict_labels_f1(clf, features, target):\n",
    "    ''' Makes predictions using a fit classifier based on F1 score. '''\n",
    "    \n",
    "    y_pred = clf.predict(features)\n",
    "     \n",
    "    return f1_score(target.values, y_pred)"
   ]
  },
  {
   "cell_type": "markdown",
   "metadata": {},
   "source": [
    "**We first choose logistic regression. Logistic regression classifies by calculating the probabilities P(Y=1|X) and P(Y=0|X). The formula is P(Y=1|X)=1/(1+e^(-z)) where z is the weighted sum of the explanatory variables X.**"
   ]
  },
  {
   "cell_type": "code",
   "execution_count": 51,
   "metadata": {
    "collapsed": false
   },
   "outputs": [
    {
     "data": {
      "text/plain": [
       "LogisticRegression(C=1.0, class_weight=None, dual=False, fit_intercept=True,\n",
       "          intercept_scaling=1, max_iter=100, multi_class='ovr', n_jobs=1,\n",
       "          penalty='l2', random_state=130, solver='liblinear', tol=0.0001,\n",
       "          verbose=0, warm_start=False)"
      ]
     },
     "execution_count": 51,
     "metadata": {},
     "output_type": "execute_result"
    }
   ],
   "source": [
    "from sklearn import linear_model\n",
    "\n",
    "clf = linear_model.LogisticRegression(random_state=130)\n",
    "clf.fit(X_train, y_train)"
   ]
  },
  {
   "cell_type": "markdown",
   "metadata": {},
   "source": [
    "**Below we are trying to calculate the accuracy and f1 score for our model. We see that even though the accuracy is high the f1 score is low suggesting that the model is probably not a good fit. We can use L1 or L2 regularization to logistic regression. But before that we will try a decision tree.**"
   ]
  },
  {
   "cell_type": "code",
   "execution_count": 52,
   "metadata": {
    "collapsed": true
   },
   "outputs": [],
   "source": [
    "accuracy_train = predict_labels_accuracy(clf, X_train, y_train)"
   ]
  },
  {
   "cell_type": "code",
   "execution_count": 53,
   "metadata": {
    "collapsed": false
   },
   "outputs": [
    {
     "data": {
      "text/plain": [
       "0.95231579633221564"
      ]
     },
     "execution_count": 53,
     "metadata": {},
     "output_type": "execute_result"
    }
   ],
   "source": [
    "accuracy_train"
   ]
  },
  {
   "cell_type": "code",
   "execution_count": 54,
   "metadata": {
    "collapsed": false
   },
   "outputs": [],
   "source": [
    "accuracy_test = predict_labels_accuracy(clf, X_test, y_test)"
   ]
  },
  {
   "cell_type": "code",
   "execution_count": 55,
   "metadata": {
    "collapsed": false
   },
   "outputs": [
    {
     "data": {
      "text/plain": [
       "0.95272749142960245"
      ]
     },
     "execution_count": 55,
     "metadata": {},
     "output_type": "execute_result"
    }
   ],
   "source": [
    "accuracy_test"
   ]
  },
  {
   "cell_type": "code",
   "execution_count": 61,
   "metadata": {
    "collapsed": false
   },
   "outputs": [],
   "source": [
    "f1_train = predict_labels_f1(clf, X_train, y_train)"
   ]
  },
  {
   "cell_type": "code",
   "execution_count": 62,
   "metadata": {
    "collapsed": false
   },
   "outputs": [
    {
     "data": {
      "text/plain": [
       "0.49079426247056301"
      ]
     },
     "execution_count": 62,
     "metadata": {},
     "output_type": "execute_result"
    }
   ],
   "source": [
    "f1_train"
   ]
  },
  {
   "cell_type": "code",
   "execution_count": 63,
   "metadata": {
    "collapsed": true
   },
   "outputs": [],
   "source": [
    "f1_test = predict_labels_f1(clf, X_test, y_test)"
   ]
  },
  {
   "cell_type": "code",
   "execution_count": 64,
   "metadata": {
    "collapsed": false
   },
   "outputs": [
    {
     "data": {
      "text/plain": [
       "0.49550706033376124"
      ]
     },
     "execution_count": 64,
     "metadata": {},
     "output_type": "execute_result"
    }
   ],
   "source": [
    "f1_test"
   ]
  },
  {
   "cell_type": "code",
   "execution_count": 65,
   "metadata": {
    "collapsed": false
   },
   "outputs": [
    {
     "data": {
      "text/plain": [
       "DecisionTreeClassifier(class_weight=None, criterion='gini', max_depth=None,\n",
       "            max_features=None, max_leaf_nodes=None, min_samples_leaf=1,\n",
       "            min_samples_split=2, min_weight_fraction_leaf=0.0,\n",
       "            presort=False, random_state=130, splitter='best')"
      ]
     },
     "execution_count": 65,
     "metadata": {},
     "output_type": "execute_result"
    }
   ],
   "source": [
    "from sklearn import tree\n",
    "\n",
    "clf_1 = tree.DecisionTreeClassifier(random_state=130)\n",
    "clf_1.fit(X_train,y_train)"
   ]
  },
  {
   "cell_type": "code",
   "execution_count": 67,
   "metadata": {
    "collapsed": true
   },
   "outputs": [],
   "source": [
    "accuracy_train_tree = predict_labels_accuracy(clf_1, X_train, y_train)"
   ]
  },
  {
   "cell_type": "code",
   "execution_count": 68,
   "metadata": {
    "collapsed": false
   },
   "outputs": [
    {
     "data": {
      "text/plain": [
       "0.99999498799625097"
      ]
     },
     "execution_count": 68,
     "metadata": {},
     "output_type": "execute_result"
    }
   ],
   "source": [
    "accuracy_train_tree "
   ]
  },
  {
   "cell_type": "code",
   "execution_count": 69,
   "metadata": {
    "collapsed": true
   },
   "outputs": [],
   "source": [
    "accuracy_train_tree_test = predict_labels_accuracy(clf_1, X_test, y_test)"
   ]
  },
  {
   "cell_type": "code",
   "execution_count": 70,
   "metadata": {
    "collapsed": false
   },
   "outputs": [
    {
     "data": {
      "text/plain": [
       "0.93389266454160902"
      ]
     },
     "execution_count": 70,
     "metadata": {},
     "output_type": "execute_result"
    }
   ],
   "source": [
    "accuracy_train_tree_test"
   ]
  },
  {
   "cell_type": "code",
   "execution_count": 78,
   "metadata": {
    "collapsed": true
   },
   "outputs": [],
   "source": [
    "f1_train_tree = predict_labels_f1(clf_1, X_train, y_train)"
   ]
  },
  {
   "cell_type": "code",
   "execution_count": 79,
   "metadata": {
    "collapsed": false
   },
   "outputs": [
    {
     "data": {
      "text/plain": [
       "0.99995961717077897"
      ]
     },
     "execution_count": 79,
     "metadata": {},
     "output_type": "execute_result"
    }
   ],
   "source": [
    "f1_train_tree"
   ]
  },
  {
   "cell_type": "code",
   "execution_count": 80,
   "metadata": {
    "collapsed": true
   },
   "outputs": [],
   "source": [
    "f1_test_tree = predict_labels_f1(clf_1, X_test, y_test)"
   ]
  },
  {
   "cell_type": "code",
   "execution_count": 81,
   "metadata": {
    "collapsed": false
   },
   "outputs": [
    {
     "data": {
      "text/plain": [
       "0.48164741020199636"
      ]
     },
     "execution_count": 81,
     "metadata": {},
     "output_type": "execute_result"
    }
   ],
   "source": [
    "f1_test_tree"
   ]
  },
  {
   "cell_type": "markdown",
   "metadata": {},
   "source": [
    "** I am trying to do it very fast, so I maybe wrong. But something very interesting happened above. For logistic regression the accuracy_scores are very high and f1_scores are very low. For decision tree model the accuracy scores are also remarkable. In case of f1_score its very high for training and very low for test set suggesting overfitting. We can try to specify how many max branches of the tree we want to improve performance. Also changing the random_state changes performance accuracy. I tried SVM but it was very slow and didn't stop running until I restarted my kernel. Below we are creating confusion matrices and heatmaps for tests sets for both the models.**"
   ]
  },
  {
   "cell_type": "code",
   "execution_count": 82,
   "metadata": {
    "collapsed": false
   },
   "outputs": [
    {
     "data": {
      "text/plain": [
       "array([[ 0.99095922,  0.00904078],\n",
       "       [ 0.62560621,  0.37439379]])"
      ]
     },
     "execution_count": 82,
     "metadata": {},
     "output_type": "execute_result"
    }
   ],
   "source": [
    "from sklearn.metrics import confusion_matrix\n",
    "\n",
    "def predict_labels_confusion(clf, features, target):\n",
    "    ''' Makes predictions using a fit classifier and returns confusion matrix. '''\n",
    "    \n",
    "    y_pred = clf.predict(features)\n",
    "     \n",
    "    return confusion_matrix(target.values, y_pred)\n",
    "\n",
    "cm=predict_labels_confusion(clf,X_test,y_test)\n",
    "cm = cm.astype('float') / cm.sum(axis=1)[:, np.newaxis]\n",
    "cm"
   ]
  },
  {
   "cell_type": "code",
   "execution_count": 83,
   "metadata": {
    "collapsed": false
   },
   "outputs": [
    {
     "data": {
      "text/plain": [
       "<matplotlib.text.Text at 0x119894080>"
      ]
     },
     "execution_count": 83,
     "metadata": {},
     "output_type": "execute_result"
    },
    {
     "data": {
      "image/png": "[encoded data removed]",
      "text/plain": [
       "<matplotlib.figure.Figure at 0x11e958198>"
      ]
     },
     "metadata": {},
     "output_type": "display_data"
    }
   ],
   "source": [
    "cm = cm.astype('float') / cm.sum(axis=1)[:, np.newaxis]\n",
    "sns.heatmap(cm, annot=True,fmt='.5f', cmap='Blues', xticklabels = ['no','yes'], yticklabels = ['no','yes'],square=True)\n",
    "plt.ylabel('True label')\n",
    "plt.xlabel('Predicted label')\n",
    "plt.title('confusion matrix for SGBClassifier:\\n')"
   ]
  },
  {
   "cell_type": "code",
   "execution_count": 86,
   "metadata": {
    "collapsed": false
   },
   "outputs": [
    {
     "data": {
      "text/plain": [
       "array([[ 0.96288578,  0.03711422],\n",
       "       [ 0.50468801,  0.49531199]])"
      ]
     },
     "execution_count": 86,
     "metadata": {},
     "output_type": "execute_result"
    }
   ],
   "source": [
    "cm1=predict_labels_confusion(clf_1,X_test,y_test)\n",
    "cm1 = cm1.astype('float') / cm1.sum(axis=1)[:, np.newaxis]\n",
    "cm1"
   ]
  },
  {
   "cell_type": "code",
   "execution_count": 85,
   "metadata": {
    "collapsed": false
   },
   "outputs": [
    {
     "data": {
      "text/plain": [
       "<matplotlib.text.Text at 0x119921cc0>"
      ]
     },
     "execution_count": 85,
     "metadata": {},
     "output_type": "execute_result"
    },
    {
     "data": {
      "image/png": "[encoded data removed]",
      "text/plain": [
       "<matplotlib.figure.Figure at 0x1198c3fd0>"
      ]
     },
     "metadata": {},
     "output_type": "display_data"
    }
   ],
   "source": [
    "cm1 = cm1.astype('float') / cm1.sum(axis=1)[:, np.newaxis]\n",
    "sns.heatmap(cm1, annot=True,fmt='.5f', cmap='Blues', xticklabels = ['no','yes'], yticklabels = ['no','yes'],square=True)\n",
    "plt.ylabel('True label')\n",
    "plt.xlabel('Predicted label')\n",
    "plt.title('confusion matrix for SGBClassifier:\\n')"
   ]
  },
  {
   "cell_type": "markdown",
   "metadata": {},
   "source": [
    "**We see that both models calculate the true negatives remarkably well but does very badly for true positives. So in that respect I think both are bad models. But surely we can try to improve upon this and see how they perform.**"
   ]
  },
  {
   "cell_type": "code",
   "execution_count": null,
   "metadata": {
    "collapsed": true
   },
   "outputs": [],
   "source": []
  }
 ],
 "metadata": {
  "kernelspec": {
   "display_name": "Python [default]",
   "language": "python",
   "name": "python3"
  },
  "language_info": {
   "codemirror_mode": {
    "name": "ipython",
    "version": 3
   },
   "file_extension": ".py",
   "mimetype": "text/x-python",
   "name": "python",
   "nbconvert_exporter": "python",
   "pygments_lexer": "ipython3",
   "version": "3.5.2"
  }
 },
 "nbformat": 4,
 "nbformat_minor": 1
}
