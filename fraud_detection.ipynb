{
 "cells": [
  {
   "cell_type": "code",
   "execution_count": 1,
   "metadata": {
    "collapsed": true
   },
   "outputs": [],
   "source": [
    "import numpy as np\n",
    "import pandas as pd"
   ]
  },
  {
   "cell_type": "code",
   "execution_count": 2,
   "metadata": {
    "collapsed": true
   },
   "outputs": [],
   "source": [
    "credit_f=pd.read_csv(\"/Users/manishabrahmachary/Anales/creditcard.csv\")"
   ]
  },
  {
   "cell_type": "code",
   "execution_count": 3,
   "metadata": {
    "collapsed": false
   },
   "outputs": [
    {
     "data": {
      "text/html": [
       "<div>\n",
       "<table border=\"1\" class=\"dataframe\">\n",
       "  <thead>\n",
       "    <tr style=\"text-align: right;\">\n",
       "      <th></th>\n",
       "      <th>Time</th>\n",
       "      <th>V1</th>\n",
       "      <th>V2</th>\n",
       "      <th>V3</th>\n",
       "      <th>V4</th>\n",
       "      <th>V5</th>\n",
       "      <th>V6</th>\n",
       "      <th>V7</th>\n",
       "      <th>V8</th>\n",
       "      <th>V9</th>\n",
       "      <th>...</th>\n",
       "      <th>V21</th>\n",
       "      <th>V22</th>\n",
       "      <th>V23</th>\n",
       "      <th>V24</th>\n",
       "      <th>V25</th>\n",
       "      <th>V26</th>\n",
       "      <th>V27</th>\n",
       "      <th>V28</th>\n",
       "      <th>Amount</th>\n",
       "      <th>Class</th>\n",
       "    </tr>\n",
       "  </thead>\n",
       "  <tbody>\n",
       "    <tr>\n",
       "      <th>0</th>\n",
       "      <td>0.0</td>\n",
       "      <td>-1.359807</td>\n",
       "      <td>-0.072781</td>\n",
       "      <td>2.536347</td>\n",
       "      <td>1.378155</td>\n",
       "      <td>-0.338321</td>\n",
       "      <td>0.462388</td>\n",
       "      <td>0.239599</td>\n",
       "      <td>0.098698</td>\n",
       "      <td>0.363787</td>\n",
       "      <td>...</td>\n",
       "      <td>-0.018307</td>\n",
       "      <td>0.277838</td>\n",
       "      <td>-0.110474</td>\n",
       "      <td>0.066928</td>\n",
       "      <td>0.128539</td>\n",
       "      <td>-0.189115</td>\n",
       "      <td>0.133558</td>\n",
       "      <td>-0.021053</td>\n",
       "      <td>149.62</td>\n",
       "      <td>0</td>\n",
       "    </tr>\n",
       "    <tr>\n",
       "      <th>1</th>\n",
       "      <td>0.0</td>\n",
       "      <td>1.191857</td>\n",
       "      <td>0.266151</td>\n",
       "      <td>0.166480</td>\n",
       "      <td>0.448154</td>\n",
       "      <td>0.060018</td>\n",
       "      <td>-0.082361</td>\n",
       "      <td>-0.078803</td>\n",
       "      <td>0.085102</td>\n",
       "      <td>-0.255425</td>\n",
       "      <td>...</td>\n",
       "      <td>-0.225775</td>\n",
       "      <td>-0.638672</td>\n",
       "      <td>0.101288</td>\n",
       "      <td>-0.339846</td>\n",
       "      <td>0.167170</td>\n",
       "      <td>0.125895</td>\n",
       "      <td>-0.008983</td>\n",
       "      <td>0.014724</td>\n",
       "      <td>2.69</td>\n",
       "      <td>0</td>\n",
       "    </tr>\n",
       "    <tr>\n",
       "      <th>2</th>\n",
       "      <td>1.0</td>\n",
       "      <td>-1.358354</td>\n",
       "      <td>-1.340163</td>\n",
       "      <td>1.773209</td>\n",
       "      <td>0.379780</td>\n",
       "      <td>-0.503198</td>\n",
       "      <td>1.800499</td>\n",
       "      <td>0.791461</td>\n",
       "      <td>0.247676</td>\n",
       "      <td>-1.514654</td>\n",
       "      <td>...</td>\n",
       "      <td>0.247998</td>\n",
       "      <td>0.771679</td>\n",
       "      <td>0.909412</td>\n",
       "      <td>-0.689281</td>\n",
       "      <td>-0.327642</td>\n",
       "      <td>-0.139097</td>\n",
       "      <td>-0.055353</td>\n",
       "      <td>-0.059752</td>\n",
       "      <td>378.66</td>\n",
       "      <td>0</td>\n",
       "    </tr>\n",
       "    <tr>\n",
       "      <th>3</th>\n",
       "      <td>1.0</td>\n",
       "      <td>-0.966272</td>\n",
       "      <td>-0.185226</td>\n",
       "      <td>1.792993</td>\n",
       "      <td>-0.863291</td>\n",
       "      <td>-0.010309</td>\n",
       "      <td>1.247203</td>\n",
       "      <td>0.237609</td>\n",
       "      <td>0.377436</td>\n",
       "      <td>-1.387024</td>\n",
       "      <td>...</td>\n",
       "      <td>-0.108300</td>\n",
       "      <td>0.005274</td>\n",
       "      <td>-0.190321</td>\n",
       "      <td>-1.175575</td>\n",
       "      <td>0.647376</td>\n",
       "      <td>-0.221929</td>\n",
       "      <td>0.062723</td>\n",
       "      <td>0.061458</td>\n",
       "      <td>123.50</td>\n",
       "      <td>0</td>\n",
       "    </tr>\n",
       "    <tr>\n",
       "      <th>4</th>\n",
       "      <td>2.0</td>\n",
       "      <td>-1.158233</td>\n",
       "      <td>0.877737</td>\n",
       "      <td>1.548718</td>\n",
       "      <td>0.403034</td>\n",
       "      <td>-0.407193</td>\n",
       "      <td>0.095921</td>\n",
       "      <td>0.592941</td>\n",
       "      <td>-0.270533</td>\n",
       "      <td>0.817739</td>\n",
       "      <td>...</td>\n",
       "      <td>-0.009431</td>\n",
       "      <td>0.798278</td>\n",
       "      <td>-0.137458</td>\n",
       "      <td>0.141267</td>\n",
       "      <td>-0.206010</td>\n",
       "      <td>0.502292</td>\n",
       "      <td>0.219422</td>\n",
       "      <td>0.215153</td>\n",
       "      <td>69.99</td>\n",
       "      <td>0</td>\n",
       "    </tr>\n",
       "  </tbody>\n",
       "</table>\n",
       "<p>5 rows × 31 columns</p>\n",
       "</div>"
      ],
      "text/plain": [
       "   Time        V1        V2        V3        V4        V5        V6        V7  \\\n",
       "0   0.0 -1.359807 -0.072781  2.536347  1.378155 -0.338321  0.462388  0.239599   \n",
       "1   0.0  1.191857  0.266151  0.166480  0.448154  0.060018 -0.082361 -0.078803   \n",
       "2   1.0 -1.358354 -1.340163  1.773209  0.379780 -0.503198  1.800499  0.791461   \n",
       "3   1.0 -0.966272 -0.185226  1.792993 -0.863291 -0.010309  1.247203  0.237609   \n",
       "4   2.0 -1.158233  0.877737  1.548718  0.403034 -0.407193  0.095921  0.592941   \n",
       "\n",
       "         V8        V9  ...         V21       V22       V23       V24  \\\n",
       "0  0.098698  0.363787  ...   -0.018307  0.277838 -0.110474  0.066928   \n",
       "1  0.085102 -0.255425  ...   -0.225775 -0.638672  0.101288 -0.339846   \n",
       "2  0.247676 -1.514654  ...    0.247998  0.771679  0.909412 -0.689281   \n",
       "3  0.377436 -1.387024  ...   -0.108300  0.005274 -0.190321 -1.175575   \n",
       "4 -0.270533  0.817739  ...   -0.009431  0.798278 -0.137458  0.141267   \n",
       "\n",
       "        V25       V26       V27       V28  Amount  Class  \n",
       "0  0.128539 -0.189115  0.133558 -0.021053  149.62      0  \n",
       "1  0.167170  0.125895 -0.008983  0.014724    2.69      0  \n",
       "2 -0.327642 -0.139097 -0.055353 -0.059752  378.66      0  \n",
       "3  0.647376 -0.221929  0.062723  0.061458  123.50      0  \n",
       "4 -0.206010  0.502292  0.219422  0.215153   69.99      0  \n",
       "\n",
       "[5 rows x 31 columns]"
      ]
     },
     "execution_count": 3,
     "metadata": {},
     "output_type": "execute_result"
    }
   ],
   "source": [
    "credit_f.head()"
   ]
  },
  {
   "cell_type": "markdown",
   "metadata": {},
   "source": [
    "** This dataset is imbalanced with the number of frauds a small portion of the dataset. So as a solution we would undersample the rest of the dataset. We take 20% of the rest of the dataset and merge with the fraud ones.**"
   ]
  },
  {
   "cell_type": "code",
   "execution_count": 12,
   "metadata": {
    "collapsed": false
   },
   "outputs": [],
   "source": [
    "credit_f1=credit_f[credit_f['Class']==0]"
   ]
  },
  {
   "cell_type": "code",
   "execution_count": 13,
   "metadata": {
    "collapsed": false
   },
   "outputs": [
    {
     "data": {
      "text/plain": [
       "(284315, 31)"
      ]
     },
     "execution_count": 13,
     "metadata": {},
     "output_type": "execute_result"
    }
   ],
   "source": [
    "credit_f1.shape"
   ]
  },
  {
   "cell_type": "code",
   "execution_count": 23,
   "metadata": {
    "collapsed": false
   },
   "outputs": [],
   "source": [
    "credit_f1=credit_f1.sample(frac=0.2)"
   ]
  },
  {
   "cell_type": "code",
   "execution_count": 24,
   "metadata": {
    "collapsed": false
   },
   "outputs": [
    {
     "data": {
      "text/plain": [
       "(17059, 31)"
      ]
     },
     "execution_count": 24,
     "metadata": {},
     "output_type": "execute_result"
    }
   ],
   "source": [
    "credit_f1.shape"
   ]
  },
  {
   "cell_type": "code",
   "execution_count": 25,
   "metadata": {
    "collapsed": true
   },
   "outputs": [],
   "source": [
    "credit_f2=credit_f[credit_f['Class']==1]"
   ]
  },
  {
   "cell_type": "code",
   "execution_count": 26,
   "metadata": {
    "collapsed": true
   },
   "outputs": [],
   "source": [
    "frames = [credit_f1, credit_f2]\n",
    "creditfraud = pd.concat(frames)"
   ]
  },
  {
   "cell_type": "code",
   "execution_count": 27,
   "metadata": {
    "collapsed": false,
    "scrolled": true
   },
   "outputs": [
    {
     "data": {
      "text/html": [
       "<div>\n",
       "<table border=\"1\" class=\"dataframe\">\n",
       "  <thead>\n",
       "    <tr style=\"text-align: right;\">\n",
       "      <th></th>\n",
       "      <th>Time</th>\n",
       "      <th>V1</th>\n",
       "      <th>V2</th>\n",
       "      <th>V3</th>\n",
       "      <th>V4</th>\n",
       "      <th>V5</th>\n",
       "      <th>V6</th>\n",
       "      <th>V7</th>\n",
       "      <th>V8</th>\n",
       "      <th>V9</th>\n",
       "      <th>...</th>\n",
       "      <th>V21</th>\n",
       "      <th>V22</th>\n",
       "      <th>V23</th>\n",
       "      <th>V24</th>\n",
       "      <th>V25</th>\n",
       "      <th>V26</th>\n",
       "      <th>V27</th>\n",
       "      <th>V28</th>\n",
       "      <th>Amount</th>\n",
       "      <th>Class</th>\n",
       "    </tr>\n",
       "  </thead>\n",
       "  <tbody>\n",
       "    <tr>\n",
       "      <th>55203</th>\n",
       "      <td>46834.0</td>\n",
       "      <td>-0.626770</td>\n",
       "      <td>0.917254</td>\n",
       "      <td>1.629186</td>\n",
       "      <td>-0.140698</td>\n",
       "      <td>1.040283</td>\n",
       "      <td>0.444661</td>\n",
       "      <td>1.087762</td>\n",
       "      <td>-0.062544</td>\n",
       "      <td>-0.428361</td>\n",
       "      <td>...</td>\n",
       "      <td>-0.158631</td>\n",
       "      <td>-0.199355</td>\n",
       "      <td>-0.606876</td>\n",
       "      <td>-0.839032</td>\n",
       "      <td>0.848598</td>\n",
       "      <td>-0.403166</td>\n",
       "      <td>-0.127971</td>\n",
       "      <td>-0.185628</td>\n",
       "      <td>4.80</td>\n",
       "      <td>0</td>\n",
       "    </tr>\n",
       "    <tr>\n",
       "      <th>57749</th>\n",
       "      <td>48053.0</td>\n",
       "      <td>1.103441</td>\n",
       "      <td>0.076124</td>\n",
       "      <td>0.681045</td>\n",
       "      <td>1.012438</td>\n",
       "      <td>-0.494685</td>\n",
       "      <td>-0.208828</td>\n",
       "      <td>-0.251930</td>\n",
       "      <td>0.235251</td>\n",
       "      <td>0.109171</td>\n",
       "      <td>...</td>\n",
       "      <td>-0.202702</td>\n",
       "      <td>-0.713603</td>\n",
       "      <td>0.205535</td>\n",
       "      <td>0.111448</td>\n",
       "      <td>0.088521</td>\n",
       "      <td>-0.687680</td>\n",
       "      <td>0.028716</td>\n",
       "      <td>0.018578</td>\n",
       "      <td>12.00</td>\n",
       "      <td>0</td>\n",
       "    </tr>\n",
       "    <tr>\n",
       "      <th>62415</th>\n",
       "      <td>50258.0</td>\n",
       "      <td>-0.075804</td>\n",
       "      <td>-0.538142</td>\n",
       "      <td>1.710947</td>\n",
       "      <td>-2.352550</td>\n",
       "      <td>-0.994628</td>\n",
       "      <td>-0.868447</td>\n",
       "      <td>0.086655</td>\n",
       "      <td>-0.398321</td>\n",
       "      <td>-2.165964</td>\n",
       "      <td>...</td>\n",
       "      <td>-0.235281</td>\n",
       "      <td>-0.253336</td>\n",
       "      <td>0.242380</td>\n",
       "      <td>0.342288</td>\n",
       "      <td>-0.859199</td>\n",
       "      <td>-0.701012</td>\n",
       "      <td>0.018594</td>\n",
       "      <td>-0.028317</td>\n",
       "      <td>60.00</td>\n",
       "      <td>0</td>\n",
       "    </tr>\n",
       "    <tr>\n",
       "      <th>75097</th>\n",
       "      <td>55895.0</td>\n",
       "      <td>1.013867</td>\n",
       "      <td>-2.035385</td>\n",
       "      <td>0.518342</td>\n",
       "      <td>-1.042491</td>\n",
       "      <td>-1.720422</td>\n",
       "      <td>0.671393</td>\n",
       "      <td>-1.254405</td>\n",
       "      <td>0.231963</td>\n",
       "      <td>-1.207512</td>\n",
       "      <td>...</td>\n",
       "      <td>-0.115585</td>\n",
       "      <td>-0.093392</td>\n",
       "      <td>-0.229121</td>\n",
       "      <td>-0.278148</td>\n",
       "      <td>0.384084</td>\n",
       "      <td>-0.077926</td>\n",
       "      <td>0.037064</td>\n",
       "      <td>0.037771</td>\n",
       "      <td>213.14</td>\n",
       "      <td>0</td>\n",
       "    </tr>\n",
       "    <tr>\n",
       "      <th>192914</th>\n",
       "      <td>129905.0</td>\n",
       "      <td>1.908011</td>\n",
       "      <td>-1.334742</td>\n",
       "      <td>-1.197587</td>\n",
       "      <td>-0.884590</td>\n",
       "      <td>-0.788066</td>\n",
       "      <td>-0.403760</td>\n",
       "      <td>-0.616996</td>\n",
       "      <td>-0.041739</td>\n",
       "      <td>-0.338781</td>\n",
       "      <td>...</td>\n",
       "      <td>0.308322</td>\n",
       "      <td>0.543164</td>\n",
       "      <td>0.074057</td>\n",
       "      <td>0.771941</td>\n",
       "      <td>-0.150172</td>\n",
       "      <td>-0.228957</td>\n",
       "      <td>-0.055571</td>\n",
       "      <td>-0.038639</td>\n",
       "      <td>141.70</td>\n",
       "      <td>0</td>\n",
       "    </tr>\n",
       "  </tbody>\n",
       "</table>\n",
       "<p>5 rows × 31 columns</p>\n",
       "</div>"
      ],
      "text/plain": [
       "            Time        V1        V2        V3        V4        V5        V6  \\\n",
       "55203    46834.0 -0.626770  0.917254  1.629186 -0.140698  1.040283  0.444661   \n",
       "57749    48053.0  1.103441  0.076124  0.681045  1.012438 -0.494685 -0.208828   \n",
       "62415    50258.0 -0.075804 -0.538142  1.710947 -2.352550 -0.994628 -0.868447   \n",
       "75097    55895.0  1.013867 -2.035385  0.518342 -1.042491 -1.720422  0.671393   \n",
       "192914  129905.0  1.908011 -1.334742 -1.197587 -0.884590 -0.788066 -0.403760   \n",
       "\n",
       "              V7        V8        V9  ...         V21       V22       V23  \\\n",
       "55203   1.087762 -0.062544 -0.428361  ...   -0.158631 -0.199355 -0.606876   \n",
       "57749  -0.251930  0.235251  0.109171  ...   -0.202702 -0.713603  0.205535   \n",
       "62415   0.086655 -0.398321 -2.165964  ...   -0.235281 -0.253336  0.242380   \n",
       "75097  -1.254405  0.231963 -1.207512  ...   -0.115585 -0.093392 -0.229121   \n",
       "192914 -0.616996 -0.041739 -0.338781  ...    0.308322  0.543164  0.074057   \n",
       "\n",
       "             V24       V25       V26       V27       V28  Amount  Class  \n",
       "55203  -0.839032  0.848598 -0.403166 -0.127971 -0.185628    4.80      0  \n",
       "57749   0.111448  0.088521 -0.687680  0.028716  0.018578   12.00      0  \n",
       "62415   0.342288 -0.859199 -0.701012  0.018594 -0.028317   60.00      0  \n",
       "75097  -0.278148  0.384084 -0.077926  0.037064  0.037771  213.14      0  \n",
       "192914  0.771941 -0.150172 -0.228957 -0.055571 -0.038639  141.70      0  \n",
       "\n",
       "[5 rows x 31 columns]"
      ]
     },
     "execution_count": 27,
     "metadata": {},
     "output_type": "execute_result"
    }
   ],
   "source": [
    "creditfraud.head()"
   ]
  },
  {
   "cell_type": "code",
   "execution_count": 35,
   "metadata": {
    "collapsed": false
   },
   "outputs": [
    {
     "data": {
      "text/plain": [
       "(17551, 30)"
      ]
     },
     "execution_count": 35,
     "metadata": {},
     "output_type": "execute_result"
    }
   ],
   "source": [
    "creditfraud.shape\n"
   ]
  },
  {
   "cell_type": "code",
   "execution_count": 28,
   "metadata": {
    "collapsed": false
   },
   "outputs": [
    {
     "data": {
      "text/plain": [
       "17059"
      ]
     },
     "execution_count": 28,
     "metadata": {},
     "output_type": "execute_result"
    }
   ],
   "source": [
    "(creditfraud['Class']==0).sum()"
   ]
  },
  {
   "cell_type": "code",
   "execution_count": 29,
   "metadata": {
    "collapsed": false
   },
   "outputs": [
    {
     "data": {
      "text/plain": [
       "492"
      ]
     },
     "execution_count": 29,
     "metadata": {},
     "output_type": "execute_result"
    }
   ],
   "source": [
    "(creditfraud['Class']==1).sum()"
   ]
  },
  {
   "cell_type": "code",
   "execution_count": 32,
   "metadata": {
    "collapsed": false
   },
   "outputs": [],
   "source": [
    "creditfraud=creditfraud.drop('Amount', axis=1)"
   ]
  },
  {
   "cell_type": "markdown",
   "metadata": {},
   "source": [
    "**Bekow the histogram can give an idea of the imbalance even after undersampling. We can probably undersample more. But I won't do it and contnue with the next steps.**"
   ]
  },
  {
   "cell_type": "code",
   "execution_count": 34,
   "metadata": {
    "collapsed": false
   },
   "outputs": [
    {
     "data": {
      "text/plain": [
       "(array([ 17059.,      0.,      0.,      0.,      0.,      0.,      0.,\n",
       "             0.,      0.,    492.]),\n",
       " array([ 0. ,  0.1,  0.2,  0.3,  0.4,  0.5,  0.6,  0.7,  0.8,  0.9,  1. ]),\n",
       " <a list of 10 Patch objects>)"
      ]
     },
     "execution_count": 34,
     "metadata": {},
     "output_type": "execute_result"
    },
    {
     "data": {
      "image/png": "[encoded data removed]",
      "text/plain": [
       "<matplotlib.figure.Figure at 0x1153f0438>"
      ]
     },
     "metadata": {},
     "output_type": "display_data"
    }
   ],
   "source": [
    "import matplotlib.pyplot as plt\n",
    "%matplotlib inline\n",
    "plt.hist(creditfraud['Class'])"
   ]
  },
  {
   "cell_type": "markdown",
   "metadata": {},
   "source": [
    "**Now we will identify the feature columns and the target columns. We have dropped for convenience the 'Amount' column. The features are all the columns except the last one which is the target column.**"
   ]
  },
  {
   "cell_type": "code",
   "execution_count": 37,
   "metadata": {
    "collapsed": false
   },
   "outputs": [],
   "source": [
    "feature_cols=list(creditfraud.columns[:-1])\n",
    "target_col=creditfraud.columns[-1]"
   ]
  },
  {
   "cell_type": "code",
   "execution_count": 38,
   "metadata": {
    "collapsed": true
   },
   "outputs": [],
   "source": [
    "X_all=creditfraud[feature_cols]\n",
    "Y_all=creditfraud[target_col]"
   ]
  },
  {
   "cell_type": "code",
   "execution_count": 39,
   "metadata": {
    "collapsed": false
   },
   "outputs": [
    {
     "data": {
      "text/html": [
       "<div>\n",
       "<table border=\"1\" class=\"dataframe\">\n",
       "  <thead>\n",
       "    <tr style=\"text-align: right;\">\n",
       "      <th></th>\n",
       "      <th>Time</th>\n",
       "      <th>V1</th>\n",
       "      <th>V2</th>\n",
       "      <th>V3</th>\n",
       "      <th>V4</th>\n",
       "      <th>V5</th>\n",
       "      <th>V6</th>\n",
       "      <th>V7</th>\n",
       "      <th>V8</th>\n",
       "      <th>V9</th>\n",
       "      <th>...</th>\n",
       "      <th>V19</th>\n",
       "      <th>V20</th>\n",
       "      <th>V21</th>\n",
       "      <th>V22</th>\n",
       "      <th>V23</th>\n",
       "      <th>V24</th>\n",
       "      <th>V25</th>\n",
       "      <th>V26</th>\n",
       "      <th>V27</th>\n",
       "      <th>V28</th>\n",
       "    </tr>\n",
       "  </thead>\n",
       "  <tbody>\n",
       "    <tr>\n",
       "      <th>55203</th>\n",
       "      <td>46834.0</td>\n",
       "      <td>-0.626770</td>\n",
       "      <td>0.917254</td>\n",
       "      <td>1.629186</td>\n",
       "      <td>-0.140698</td>\n",
       "      <td>1.040283</td>\n",
       "      <td>0.444661</td>\n",
       "      <td>1.087762</td>\n",
       "      <td>-0.062544</td>\n",
       "      <td>-0.428361</td>\n",
       "      <td>...</td>\n",
       "      <td>0.210745</td>\n",
       "      <td>-0.038680</td>\n",
       "      <td>-0.158631</td>\n",
       "      <td>-0.199355</td>\n",
       "      <td>-0.606876</td>\n",
       "      <td>-0.839032</td>\n",
       "      <td>0.848598</td>\n",
       "      <td>-0.403166</td>\n",
       "      <td>-0.127971</td>\n",
       "      <td>-0.185628</td>\n",
       "    </tr>\n",
       "    <tr>\n",
       "      <th>57749</th>\n",
       "      <td>48053.0</td>\n",
       "      <td>1.103441</td>\n",
       "      <td>0.076124</td>\n",
       "      <td>0.681045</td>\n",
       "      <td>1.012438</td>\n",
       "      <td>-0.494685</td>\n",
       "      <td>-0.208828</td>\n",
       "      <td>-0.251930</td>\n",
       "      <td>0.235251</td>\n",
       "      <td>0.109171</td>\n",
       "      <td>...</td>\n",
       "      <td>-0.417953</td>\n",
       "      <td>-0.271533</td>\n",
       "      <td>-0.202702</td>\n",
       "      <td>-0.713603</td>\n",
       "      <td>0.205535</td>\n",
       "      <td>0.111448</td>\n",
       "      <td>0.088521</td>\n",
       "      <td>-0.687680</td>\n",
       "      <td>0.028716</td>\n",
       "      <td>0.018578</td>\n",
       "    </tr>\n",
       "    <tr>\n",
       "      <th>62415</th>\n",
       "      <td>50258.0</td>\n",
       "      <td>-0.075804</td>\n",
       "      <td>-0.538142</td>\n",
       "      <td>1.710947</td>\n",
       "      <td>-2.352550</td>\n",
       "      <td>-0.994628</td>\n",
       "      <td>-0.868447</td>\n",
       "      <td>0.086655</td>\n",
       "      <td>-0.398321</td>\n",
       "      <td>-2.165964</td>\n",
       "      <td>...</td>\n",
       "      <td>-0.796483</td>\n",
       "      <td>-0.135899</td>\n",
       "      <td>-0.235281</td>\n",
       "      <td>-0.253336</td>\n",
       "      <td>0.242380</td>\n",
       "      <td>0.342288</td>\n",
       "      <td>-0.859199</td>\n",
       "      <td>-0.701012</td>\n",
       "      <td>0.018594</td>\n",
       "      <td>-0.028317</td>\n",
       "    </tr>\n",
       "    <tr>\n",
       "      <th>75097</th>\n",
       "      <td>55895.0</td>\n",
       "      <td>1.013867</td>\n",
       "      <td>-2.035385</td>\n",
       "      <td>0.518342</td>\n",
       "      <td>-1.042491</td>\n",
       "      <td>-1.720422</td>\n",
       "      <td>0.671393</td>\n",
       "      <td>-1.254405</td>\n",
       "      <td>0.231963</td>\n",
       "      <td>-1.207512</td>\n",
       "      <td>...</td>\n",
       "      <td>0.279668</td>\n",
       "      <td>0.011407</td>\n",
       "      <td>-0.115585</td>\n",
       "      <td>-0.093392</td>\n",
       "      <td>-0.229121</td>\n",
       "      <td>-0.278148</td>\n",
       "      <td>0.384084</td>\n",
       "      <td>-0.077926</td>\n",
       "      <td>0.037064</td>\n",
       "      <td>0.037771</td>\n",
       "    </tr>\n",
       "    <tr>\n",
       "      <th>192914</th>\n",
       "      <td>129905.0</td>\n",
       "      <td>1.908011</td>\n",
       "      <td>-1.334742</td>\n",
       "      <td>-1.197587</td>\n",
       "      <td>-0.884590</td>\n",
       "      <td>-0.788066</td>\n",
       "      <td>-0.403760</td>\n",
       "      <td>-0.616996</td>\n",
       "      <td>-0.041739</td>\n",
       "      <td>-0.338781</td>\n",
       "      <td>...</td>\n",
       "      <td>0.881615</td>\n",
       "      <td>0.200681</td>\n",
       "      <td>0.308322</td>\n",
       "      <td>0.543164</td>\n",
       "      <td>0.074057</td>\n",
       "      <td>0.771941</td>\n",
       "      <td>-0.150172</td>\n",
       "      <td>-0.228957</td>\n",
       "      <td>-0.055571</td>\n",
       "      <td>-0.038639</td>\n",
       "    </tr>\n",
       "  </tbody>\n",
       "</table>\n",
       "<p>5 rows × 29 columns</p>\n",
       "</div>"
      ],
      "text/plain": [
       "            Time        V1        V2        V3        V4        V5        V6  \\\n",
       "55203    46834.0 -0.626770  0.917254  1.629186 -0.140698  1.040283  0.444661   \n",
       "57749    48053.0  1.103441  0.076124  0.681045  1.012438 -0.494685 -0.208828   \n",
       "62415    50258.0 -0.075804 -0.538142  1.710947 -2.352550 -0.994628 -0.868447   \n",
       "75097    55895.0  1.013867 -2.035385  0.518342 -1.042491 -1.720422  0.671393   \n",
       "192914  129905.0  1.908011 -1.334742 -1.197587 -0.884590 -0.788066 -0.403760   \n",
       "\n",
       "              V7        V8        V9    ...          V19       V20       V21  \\\n",
       "55203   1.087762 -0.062544 -0.428361    ...     0.210745 -0.038680 -0.158631   \n",
       "57749  -0.251930  0.235251  0.109171    ...    -0.417953 -0.271533 -0.202702   \n",
       "62415   0.086655 -0.398321 -2.165964    ...    -0.796483 -0.135899 -0.235281   \n",
       "75097  -1.254405  0.231963 -1.207512    ...     0.279668  0.011407 -0.115585   \n",
       "192914 -0.616996 -0.041739 -0.338781    ...     0.881615  0.200681  0.308322   \n",
       "\n",
       "             V22       V23       V24       V25       V26       V27       V28  \n",
       "55203  -0.199355 -0.606876 -0.839032  0.848598 -0.403166 -0.127971 -0.185628  \n",
       "57749  -0.713603  0.205535  0.111448  0.088521 -0.687680  0.028716  0.018578  \n",
       "62415  -0.253336  0.242380  0.342288 -0.859199 -0.701012  0.018594 -0.028317  \n",
       "75097  -0.093392 -0.229121 -0.278148  0.384084 -0.077926  0.037064  0.037771  \n",
       "192914  0.543164  0.074057  0.771941 -0.150172 -0.228957 -0.055571 -0.038639  \n",
       "\n",
       "[5 rows x 29 columns]"
      ]
     },
     "execution_count": 39,
     "metadata": {},
     "output_type": "execute_result"
    }
   ],
   "source": [
    "X_all.head()"
   ]
  },
  {
   "cell_type": "code",
   "execution_count": 40,
   "metadata": {
    "collapsed": false
   },
   "outputs": [
    {
     "data": {
      "text/plain": [
       "55203     0\n",
       "57749     0\n",
       "62415     0\n",
       "75097     0\n",
       "192914    0\n",
       "Name: Class, dtype: int64"
      ]
     },
     "execution_count": 40,
     "metadata": {},
     "output_type": "execute_result"
    }
   ],
   "source": [
    "Y_all.head()"
   ]
  },
  {
   "cell_type": "markdown",
   "metadata": {},
   "source": [
    "**Now comes the model selection part. But before that we split the dataset into training and testing data with 10% of the total data being the test size.**"
   ]
  },
  {
   "cell_type": "code",
   "execution_count": 41,
   "metadata": {
    "collapsed": true
   },
   "outputs": [],
   "source": [
    "from sklearn.cross_validation import train_test_split"
   ]
  },
  {
   "cell_type": "code",
   "execution_count": 43,
   "metadata": {
    "collapsed": false
   },
   "outputs": [],
   "source": [
    "X_train,X_test, Y_train,Y_test=train_test_split(X_all,Y_all, test_size=.1, stratify=Y_all, random_state=130)"
   ]
  },
  {
   "cell_type": "markdown",
   "metadata": {},
   "source": [
    "** Now we will do two things. We will use logistic regression as a model to train on the training sets and then calculate the F1 scores on the training as well as testing set. Next we would use to kinds of cross validation methods to improve on what we have and also calculate the auc_roc score in addition to F1 score.**"
   ]
  },
  {
   "cell_type": "code",
   "execution_count": 45,
   "metadata": {
    "collapsed": false
   },
   "outputs": [],
   "source": [
    "from sklearn import linear_model\n",
    "from sklearn import svm\n",
    "\n",
    "clf=linear_model.LogisticRegression(penalty='l2',random_state=130)"
   ]
  },
  {
   "cell_type": "code",
   "execution_count": 46,
   "metadata": {
    "collapsed": false
   },
   "outputs": [
    {
     "data": {
      "text/plain": [
       "LogisticRegression(C=1.0, class_weight=None, dual=False, fit_intercept=True,\n",
       "          intercept_scaling=1, max_iter=100, multi_class='ovr', n_jobs=1,\n",
       "          penalty='l2', random_state=130, solver='liblinear', tol=0.0001,\n",
       "          verbose=0, warm_start=False)"
      ]
     },
     "execution_count": 46,
     "metadata": {},
     "output_type": "execute_result"
    }
   ],
   "source": [
    "clf.fit(X_train,Y_train)"
   ]
  },
  {
   "cell_type": "code",
   "execution_count": 53,
   "metadata": {
    "collapsed": false
   },
   "outputs": [],
   "source": [
    "from sklearn.metrics import f1_score\n",
    "def predict_labels_f1(clf, features, target):\n",
    "    ''' Makes predictions using a fit classifier based on F1 score. '''\n",
    "    \n",
    "    y_pred = clf.predict(features)\n",
    "        \n",
    "    # Print and return results\n",
    "    return f1_score(target.values, y_pred)\n"
   ]
  },
  {
   "cell_type": "code",
   "execution_count": 54,
   "metadata": {
    "collapsed": false
   },
   "outputs": [
    {
     "data": {
      "text/plain": [
       "0.77435897435897427"
      ]
     },
     "execution_count": 54,
     "metadata": {},
     "output_type": "execute_result"
    }
   ],
   "source": [
    "predict_labels_f1(clf,X_train,Y_train)"
   ]
  },
  {
   "cell_type": "code",
   "execution_count": 55,
   "metadata": {
    "collapsed": false
   },
   "outputs": [
    {
     "data": {
      "text/plain": [
       "0.8314606741573034"
      ]
     },
     "execution_count": 55,
     "metadata": {},
     "output_type": "execute_result"
    }
   ],
   "source": [
    "predict_labels_f1(clf, X_test, Y_test)"
   ]
  },
  {
   "cell_type": "code",
   "execution_count": 56,
   "metadata": {
    "collapsed": false
   },
   "outputs": [
    {
     "data": {
      "text/plain": [
       "<matplotlib.text.Text at 0x11f63d400>"
      ]
     },
     "execution_count": 56,
     "metadata": {},
     "output_type": "execute_result"
    },
    {
     "data": {
      "image/png": "[encoded data removed]",
      "text/plain": [
       "<matplotlib.figure.Figure at 0x1153c0d68>"
      ]
     },
     "metadata": {},
     "output_type": "display_data"
    }
   ],
   "source": [
    "from sklearn.metrics import confusion_matrix\n",
    "import seaborn as sns\n",
    "import matplotlib.pyplot as plt\n",
    "%matplotlib inline\n",
    "\n",
    "model= clf\n",
    "cm = confusion_matrix(Y_test,model.predict(X_test))\n",
    "cm = cm.astype('float') / cm.sum(axis=1)[:, np.newaxis]\n",
    "sns.heatmap(cm, annot=True,fmt='.3f', cmap='Blues', xticklabels = ['no','yes'], yticklabels = ['no','yes'],square=True)\n",
    "plt.ylabel('True label')\n",
    "plt.xlabel('Predicted label')\n",
    "plt.title('confusion matrix for Logistic:\\n')"
   ]
  },
  {
   "cell_type": "code",
   "execution_count": 84,
   "metadata": {
    "collapsed": false
   },
   "outputs": [],
   "source": [
    "    from sklearn.cross_validation import KFold\n",
    "    from sklearn.grid_search import GridSearchCV\n",
    "    from sklearn.linear_model import LogisticRegressionCV\n",
    "    from sklearn.metrics import f1_score, make_scorer\n",
    "    \n",
    "    f1_scorer = make_scorer(f1_score,greater_is_better=True)\n",
    "    "
   ]
  },
  {
   "cell_type": "markdown",
   "metadata": {},
   "source": [
    "**In the steps below we use the first method for cross validation and look at the auc_roc and F1 scores. Next we will use gridsearch cross validation method to calculate F1 scores. It would be obvious which works better. One thing interesting to note is that in each case the testing score is higher than the training score for F1 scoring.**"
   ]
  },
  {
   "cell_type": "code",
   "execution_count": 83,
   "metadata": {
    "collapsed": false
   },
   "outputs": [
    {
     "name": "stderr",
     "output_type": "stream",
     "text": [
      "/Users/manishabrahmachary/anaconda/lib/python3.5/site-packages/scipy/optimize/linesearch.py:414: LineSearchWarning: The line search algorithm did not converge\n",
      "  warn('The line search algorithm did not converge', LineSearchWarning)\n",
      "/Users/manishabrahmachary/anaconda/lib/python3.5/site-packages/scipy/optimize/linesearch.py:285: LineSearchWarning: The line search algorithm did not converge\n",
      "  warn('The line search algorithm did not converge', LineSearchWarning)\n",
      "/Users/manishabrahmachary/anaconda/lib/python3.5/site-packages/sklearn/metrics/classification.py:1074: UndefinedMetricWarning: F-score is ill-defined and being set to 0.0 due to no predicted samples.\n",
      "  'precision', 'predicted', average, warn_for)\n"
     ]
    },
    {
     "name": "stdout",
     "output_type": "stream",
     "text": [
      "Max auc_roc: 0.928571428571\n",
      "Tunes model auc_roc for training 0.9105\n",
      "Tunes model auc_roc for testing 0.9181\n",
      "Tuned model has a training F1 score of 0.8922.\n",
      "Tuned model has a testing F1 score of 0.9011.\n"
     ]
    }
   ],
   "source": [
    "\n",
    "from sklearn.metrics import roc_auc_score\n",
    "#fold = KFold(len(Y_all), n_folds=5, shuffle=True, random_state=777)\n",
    "searchCV = LogisticRegressionCV(\n",
    "        Cs=list(np.power(10.0, np.arange(-10, 10)))\n",
    "        ,penalty='l2'\n",
    "        ,scoring=f1_scorer\n",
    "        ,cv=10\n",
    "        ,random_state=777\n",
    "        ,max_iter=10000\n",
    "        ,fit_intercept=True\n",
    "        ,solver='newton-cg'\n",
    "        ,tol=10\n",
    "    )\n",
    "searchCV.fit(X_train, Y_train)\n",
    "y_pred_train = searchCV.predict(X_train)\n",
    "y_pred_test = searchCV.predict(X_test)\n",
    "\n",
    "print ('Max auc_roc:', searchCV.scores_[1].max())\n",
    "print(\"Tunes model auc_roc for training {:.4f}\".format(roc_auc_score(Y_train, y_pred_train, average='macro'))\n",
    "print(\"Tunes model auc_roc for testing {:.4f}\".format(roc_auc_score(Y_test, y_pred_test, average='macro')))\n",
    "print( \"Tuned model has a training F1 score of {:.4f}.\".format(predict_labels_f1(searchCV, X_train, Y_train)))\n",
    "print (\"Tuned model has a testing F1 score of {:.4f}.\".format(predict_labels_f1(searchCV, X_test, Y_test)))\n"
   ]
  },
  {
   "cell_type": "code",
   "execution_count": 85,
   "metadata": {
    "collapsed": false
   },
   "outputs": [
    {
     "name": "stdout",
     "output_type": "stream",
     "text": [
      "Tuned model has a training F1 score of 0.7744.\n",
      "Tuned model has a testing F1 score of 0.8315.\n"
     ]
    }
   ],
   "source": [
    "from sklearn.grid_search import GridSearchCV\n",
    "C_range = np.logspace(-2, 10, 13)\n",
    "parameter = {'C': [0.001, 0.01, 0.1, 1, 10, 100, 1000] }\n",
    "\n",
    "# TODO: Initialize the classifier\n",
    "clf = linear_model.LogisticRegression(penalty='l2',random_state=50)\n",
    "\n",
    "# TODO: Make an f1 scoring function using 'make_scorer' \n",
    "f1_scorer = make_scorer(f1_score,greater_is_better=True)\n",
    "# TODO: Perform grid search on the classifier using the f1_scorer as the scoring method\n",
    "grid_obj = GridSearchCV(clf, parameter, scoring = f1_scorer, cv=None)\n",
    "\n",
    "# TODO: Fit the grid search object to the training data and find the optimal parameters\n",
    "grid_obj = grid_obj.fit(X_train,Y_train)\n",
    "\n",
    "# Get the estimator\n",
    "clf = grid_obj.best_estimator_\n",
    "\n",
    "# Report the final F1 score for training and testing after parameter tuning\n",
    "print( \"Tuned model has a training F1 score of {:.4f}.\".format(predict_labels_f1(clf, X_train, Y_train)))\n",
    "print (\"Tuned model has a testing F1 score of {:.4f}.\".format(predict_labels_f1(clf, X_test, Y_test)))"
   ]
  },
  {
   "cell_type": "code",
   "execution_count": null,
   "metadata": {
    "collapsed": true
   },
   "outputs": [],
   "source": []
  }
 ],
 "metadata": {
  "anaconda-cloud": {},
  "kernelspec": {
   "display_name": "Python [default]",
   "language": "python",
   "name": "python3"
  },
  "language_info": {
   "codemirror_mode": {
    "name": "ipython",
    "version": 3
   },
   "file_extension": ".py",
   "mimetype": "text/x-python",
   "name": "python",
   "nbconvert_exporter": "python",
   "pygments_lexer": "ipython3",
   "version": "3.5.2"
  }
 },
 "nbformat": 4,
 "nbformat_minor": 1
}
